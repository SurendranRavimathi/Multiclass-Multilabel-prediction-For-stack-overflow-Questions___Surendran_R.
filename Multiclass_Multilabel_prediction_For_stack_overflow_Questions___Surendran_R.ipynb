{
  "nbformat": 4,
  "nbformat_minor": 0,
  "metadata": {
    "colab": {
      "name": "Multiclass Multilabel prediction For stack overflow Questions___Surendran_R.ipynb",
      "provenance": [],
      "collapsed_sections": []
    },
    "kernelspec": {
      "display_name": "Python 3",
      "name": "python3"
    },
    "accelerator": "GPU"
  },
  "cells": [
    {
      "cell_type": "code",
      "metadata": {
        "id": "zAqvvro8KPZZ"
      },
      "source": [
        "%tensorflow_version 2.x"
      ],
      "execution_count": null,
      "outputs": []
    },
    {
      "cell_type": "code",
      "metadata": {
        "id": "wt82Lu3EL1gC"
      },
      "source": [
        "import numpy as np\n",
        "import pandas as pd\n",
        "import warnings\n",
        "warnings.filterwarnings('ignore')"
      ],
      "execution_count": null,
      "outputs": []
    },
    {
      "cell_type": "markdown",
      "metadata": {
        "id": "WOsK7auPjagT"
      },
      "source": [
        "## Step 1:**Downloading the data set**\n",
        "\n",
        "1.   unzipping the data set\n",
        "2.   Loading the data into data frame as follows\n",
        "\n",
        "\n",
        "*   questions_df\n",
        "*   answers_df\n",
        "*   tags_df\n",
        "\n",
        "\n",
        "\n",
        "\n"
      ]
    },
    {
      "cell_type": "code",
      "metadata": {
        "colab": {
          "base_uri": "https://localhost:8080/"
        },
        "id": "bnMD1_zAMeRC",
        "outputId": "fe0ac005-349b-4501-fc4b-2d3ecc11ac7b"
      },
      "source": [
        "!wget https://www.dropbox.com/s/5721wcs2guuykzl/stacksample.zip?dl=0"
      ],
      "execution_count": null,
      "outputs": [
        {
          "output_type": "stream",
          "text": [
            "--2021-03-17 03:51:17--  https://www.dropbox.com/s/5721wcs2guuykzl/stacksample.zip?dl=0\n",
            "Resolving www.dropbox.com (www.dropbox.com)... 162.125.6.18, 2620:100:6030:18::a27d:5012\n",
            "Connecting to www.dropbox.com (www.dropbox.com)|162.125.6.18|:443... connected.\n",
            "HTTP request sent, awaiting response... 301 Moved Permanently\n",
            "Location: /s/raw/5721wcs2guuykzl/stacksample.zip [following]\n",
            "--2021-03-17 03:51:17--  https://www.dropbox.com/s/raw/5721wcs2guuykzl/stacksample.zip\n",
            "Reusing existing connection to www.dropbox.com:443.\n",
            "HTTP request sent, awaiting response... 302 Found\n",
            "Location: https://uc9a5738045045b2b6eff4430f02.dl.dropboxusercontent.com/cd/0/inline/BK2Vj8icZlLXf6D-B9j0gYiMHsS5WI2Gu3CACGfP7gbgE-qugydilvwFrgfQxOerPQQGvx-vNJydq82L3pM9KdrFb96nlEnsgwYrJtJ3ZOP3XCq_ILSbg7a-YU0VUKciEFpsj42F8kPeZ95E4Lpvgb77/file# [following]\n",
            "--2021-03-17 03:51:18--  https://uc9a5738045045b2b6eff4430f02.dl.dropboxusercontent.com/cd/0/inline/BK2Vj8icZlLXf6D-B9j0gYiMHsS5WI2Gu3CACGfP7gbgE-qugydilvwFrgfQxOerPQQGvx-vNJydq82L3pM9KdrFb96nlEnsgwYrJtJ3ZOP3XCq_ILSbg7a-YU0VUKciEFpsj42F8kPeZ95E4Lpvgb77/file\n",
            "Resolving uc9a5738045045b2b6eff4430f02.dl.dropboxusercontent.com (uc9a5738045045b2b6eff4430f02.dl.dropboxusercontent.com)... 162.125.80.15, 2620:100:601c:15::a27d:60f\n",
            "Connecting to uc9a5738045045b2b6eff4430f02.dl.dropboxusercontent.com (uc9a5738045045b2b6eff4430f02.dl.dropboxusercontent.com)|162.125.80.15|:443... connected.\n",
            "HTTP request sent, awaiting response... 302 Found\n",
            "Location: /cd/0/inline2/BK09-XHLECne1lf38t2pQsHNz34nKI_jZ0oeZYJ4Km6ebpXsDcXEJpTPyToLLvVB0hZRSQ38-uykU6b3qhslm3v5ECdomcB3lcJz0RKvgz-LkYqaaiRugw6aGtZI_ngcsPycKwdv_QiK36hgqkoXBzTd-2IiuA2eh4d-_Tb8br_-cWvW_VQFihNP4Qpk7G7owOBMQrfKrdNjTjFyB8jLzd2uFPQA1tOkjLA1YTvb31GsuqG1Z5qamC6-XVUwYM5WNkkwibaF3kWCjuHWAG9vhaUjWVQxEcS7pgNByaJAajIwdTISdZf9e2m0Lk8rx174yw5N2id78X10oWs0CNL841MKDtygbdGf_7bcrMLpm-qqaogDorrnRZcvkbE3VeZ5f1o/file [following]\n",
            "--2021-03-17 03:51:19--  https://uc9a5738045045b2b6eff4430f02.dl.dropboxusercontent.com/cd/0/inline2/BK09-XHLECne1lf38t2pQsHNz34nKI_jZ0oeZYJ4Km6ebpXsDcXEJpTPyToLLvVB0hZRSQ38-uykU6b3qhslm3v5ECdomcB3lcJz0RKvgz-LkYqaaiRugw6aGtZI_ngcsPycKwdv_QiK36hgqkoXBzTd-2IiuA2eh4d-_Tb8br_-cWvW_VQFihNP4Qpk7G7owOBMQrfKrdNjTjFyB8jLzd2uFPQA1tOkjLA1YTvb31GsuqG1Z5qamC6-XVUwYM5WNkkwibaF3kWCjuHWAG9vhaUjWVQxEcS7pgNByaJAajIwdTISdZf9e2m0Lk8rx174yw5N2id78X10oWs0CNL841MKDtygbdGf_7bcrMLpm-qqaogDorrnRZcvkbE3VeZ5f1o/file\n",
            "Reusing existing connection to uc9a5738045045b2b6eff4430f02.dl.dropboxusercontent.com:443.\n",
            "HTTP request sent, awaiting response... 200 OK\n",
            "Length: 1231288519 (1.1G) [application/zip]\n",
            "Saving to: ‘stacksample.zip?dl=0’\n",
            "\n",
            "stacksample.zip?dl= 100%[===================>]   1.15G  7.70MB/s    in 2m 36s  \n",
            "\n",
            "2021-03-17 03:53:56 (7.54 MB/s) - ‘stacksample.zip?dl=0’ saved [1231288519/1231288519]\n",
            "\n"
          ],
          "name": "stdout"
        }
      ]
    },
    {
      "cell_type": "code",
      "metadata": {
        "id": "xfz-SSpojTJQ"
      },
      "source": [
        "# unzipping the data set"
      ],
      "execution_count": null,
      "outputs": []
    },
    {
      "cell_type": "code",
      "metadata": {
        "colab": {
          "base_uri": "https://localhost:8080/"
        },
        "id": "WAXUSccIMpap",
        "outputId": "67f86a40-8e39-4ae1-9b18-1a1e9fa0e498"
      },
      "source": [
        "!unzip '/content/stacksample.zip?dl=0'"
      ],
      "execution_count": null,
      "outputs": [
        {
          "output_type": "stream",
          "text": [
            "Archive:  /content/stacksample.zip?dl=0\n",
            "  inflating: Answers.csv             \n",
            "  inflating: Questions.csv           \n",
            "  inflating: Tags.csv                \n"
          ],
          "name": "stdout"
        }
      ]
    },
    {
      "cell_type": "code",
      "metadata": {
        "id": "KG4AS315NFZt"
      },
      "source": [
        "# questions=r'/content/Questions.csv'\n",
        "# answers=r'/content/Answers.csv'\n",
        "# tags=r'/content/Tags.csv'"
      ],
      "execution_count": null,
      "outputs": []
    },
    {
      "cell_type": "code",
      "metadata": {
        "id": "OurpsWkgjXh7"
      },
      "source": [
        ""
      ],
      "execution_count": null,
      "outputs": []
    },
    {
      "cell_type": "code",
      "metadata": {
        "id": "KGCjdhtkOuJ9"
      },
      "source": [
        "questions_df=pd.read_csv('../content/Questions.csv',encoding='ISO-8859-1')\n",
        "answers_df=pd.read_csv('../content/Answers.csv',encoding='ISO-8859-1')\n",
        "tags_df=pd.read_csv('../content/Tags.csv',encoding='ISO-8859-1')"
      ],
      "execution_count": null,
      "outputs": []
    },
    {
      "cell_type": "code",
      "metadata": {
        "id": "21i1XR1EP44L"
      },
      "source": [
        "# Common encoding used are(try following and see which one suits the data)\n",
        "# UTF-8\n",
        "# Latin-1 (also known as ISO-8859-1)\n",
        "# Windows-1251"
      ],
      "execution_count": null,
      "outputs": []
    },
    {
      "cell_type": "code",
      "metadata": {
        "colab": {
          "base_uri": "https://localhost:8080/",
          "height": 107
        },
        "id": "WNsFWypfQX7z",
        "outputId": "87edec7d-4690-432b-fec4-9ae434cf8e7c"
      },
      "source": [
        "questions_df.head(n=2)"
      ],
      "execution_count": null,
      "outputs": [
        {
          "output_type": "execute_result",
          "data": {
            "text/html": [
              "<div>\n",
              "<style scoped>\n",
              "    .dataframe tbody tr th:only-of-type {\n",
              "        vertical-align: middle;\n",
              "    }\n",
              "\n",
              "    .dataframe tbody tr th {\n",
              "        vertical-align: top;\n",
              "    }\n",
              "\n",
              "    .dataframe thead th {\n",
              "        text-align: right;\n",
              "    }\n",
              "</style>\n",
              "<table border=\"1\" class=\"dataframe\">\n",
              "  <thead>\n",
              "    <tr style=\"text-align: right;\">\n",
              "      <th></th>\n",
              "      <th>Id</th>\n",
              "      <th>OwnerUserId</th>\n",
              "      <th>CreationDate</th>\n",
              "      <th>ClosedDate</th>\n",
              "      <th>Score</th>\n",
              "      <th>Title</th>\n",
              "      <th>Body</th>\n",
              "    </tr>\n",
              "  </thead>\n",
              "  <tbody>\n",
              "    <tr>\n",
              "      <th>0</th>\n",
              "      <td>80</td>\n",
              "      <td>26.0</td>\n",
              "      <td>2008-08-01T13:57:07Z</td>\n",
              "      <td>NaN</td>\n",
              "      <td>26</td>\n",
              "      <td>SQLStatement.execute() - multiple queries in o...</td>\n",
              "      <td>&lt;p&gt;I've written a database generation script i...</td>\n",
              "    </tr>\n",
              "    <tr>\n",
              "      <th>1</th>\n",
              "      <td>90</td>\n",
              "      <td>58.0</td>\n",
              "      <td>2008-08-01T14:41:24Z</td>\n",
              "      <td>2012-12-26T03:45:49Z</td>\n",
              "      <td>144</td>\n",
              "      <td>Good branching and merging tutorials for Torto...</td>\n",
              "      <td>&lt;p&gt;Are there any really good tutorials explain...</td>\n",
              "    </tr>\n",
              "  </tbody>\n",
              "</table>\n",
              "</div>"
            ],
            "text/plain": [
              "   Id  ...                                               Body\n",
              "0  80  ...  <p>I've written a database generation script i...\n",
              "1  90  ...  <p>Are there any really good tutorials explain...\n",
              "\n",
              "[2 rows x 7 columns]"
            ]
          },
          "metadata": {
            "tags": []
          },
          "execution_count": 9
        }
      ]
    },
    {
      "cell_type": "code",
      "metadata": {
        "colab": {
          "base_uri": "https://localhost:8080/",
          "height": 107
        },
        "id": "KvBJWpFfRl73",
        "outputId": "7a928551-3a36-4d99-f98a-46ea5170aa4c"
      },
      "source": [
        "answers_df.head(n=2)"
      ],
      "execution_count": null,
      "outputs": [
        {
          "output_type": "execute_result",
          "data": {
            "text/html": [
              "<div>\n",
              "<style scoped>\n",
              "    .dataframe tbody tr th:only-of-type {\n",
              "        vertical-align: middle;\n",
              "    }\n",
              "\n",
              "    .dataframe tbody tr th {\n",
              "        vertical-align: top;\n",
              "    }\n",
              "\n",
              "    .dataframe thead th {\n",
              "        text-align: right;\n",
              "    }\n",
              "</style>\n",
              "<table border=\"1\" class=\"dataframe\">\n",
              "  <thead>\n",
              "    <tr style=\"text-align: right;\">\n",
              "      <th></th>\n",
              "      <th>Id</th>\n",
              "      <th>OwnerUserId</th>\n",
              "      <th>CreationDate</th>\n",
              "      <th>ParentId</th>\n",
              "      <th>Score</th>\n",
              "      <th>Body</th>\n",
              "    </tr>\n",
              "  </thead>\n",
              "  <tbody>\n",
              "    <tr>\n",
              "      <th>0</th>\n",
              "      <td>92</td>\n",
              "      <td>61.0</td>\n",
              "      <td>2008-08-01T14:45:37Z</td>\n",
              "      <td>90</td>\n",
              "      <td>13</td>\n",
              "      <td>&lt;p&gt;&lt;a href=\"http://svnbook.red-bean.com/\"&gt;Vers...</td>\n",
              "    </tr>\n",
              "    <tr>\n",
              "      <th>1</th>\n",
              "      <td>124</td>\n",
              "      <td>26.0</td>\n",
              "      <td>2008-08-01T16:09:47Z</td>\n",
              "      <td>80</td>\n",
              "      <td>12</td>\n",
              "      <td>&lt;p&gt;I wound up using this. It is a kind of a ha...</td>\n",
              "    </tr>\n",
              "  </tbody>\n",
              "</table>\n",
              "</div>"
            ],
            "text/plain": [
              "    Id  OwnerUserId  ... Score                                               Body\n",
              "0   92         61.0  ...    13  <p><a href=\"http://svnbook.red-bean.com/\">Vers...\n",
              "1  124         26.0  ...    12  <p>I wound up using this. It is a kind of a ha...\n",
              "\n",
              "[2 rows x 6 columns]"
            ]
          },
          "metadata": {
            "tags": []
          },
          "execution_count": 10
        }
      ]
    },
    {
      "cell_type": "code",
      "metadata": {
        "colab": {
          "base_uri": "https://localhost:8080/",
          "height": 107
        },
        "id": "LSDWx6cYRx6d",
        "outputId": "31a28798-deb5-41c2-b1bd-53eddbd683e3"
      },
      "source": [
        "tags_df.head(n=2)"
      ],
      "execution_count": null,
      "outputs": [
        {
          "output_type": "execute_result",
          "data": {
            "text/html": [
              "<div>\n",
              "<style scoped>\n",
              "    .dataframe tbody tr th:only-of-type {\n",
              "        vertical-align: middle;\n",
              "    }\n",
              "\n",
              "    .dataframe tbody tr th {\n",
              "        vertical-align: top;\n",
              "    }\n",
              "\n",
              "    .dataframe thead th {\n",
              "        text-align: right;\n",
              "    }\n",
              "</style>\n",
              "<table border=\"1\" class=\"dataframe\">\n",
              "  <thead>\n",
              "    <tr style=\"text-align: right;\">\n",
              "      <th></th>\n",
              "      <th>Id</th>\n",
              "      <th>Tag</th>\n",
              "    </tr>\n",
              "  </thead>\n",
              "  <tbody>\n",
              "    <tr>\n",
              "      <th>0</th>\n",
              "      <td>80</td>\n",
              "      <td>flex</td>\n",
              "    </tr>\n",
              "    <tr>\n",
              "      <th>1</th>\n",
              "      <td>80</td>\n",
              "      <td>actionscript-3</td>\n",
              "    </tr>\n",
              "  </tbody>\n",
              "</table>\n",
              "</div>"
            ],
            "text/plain": [
              "   Id             Tag\n",
              "0  80            flex\n",
              "1  80  actionscript-3"
            ]
          },
          "metadata": {
            "tags": []
          },
          "execution_count": 11
        }
      ]
    },
    {
      "cell_type": "markdown",
      "metadata": {
        "id": "Ag-PykjSkziX"
      },
      "source": [
        "## Step 2: **Reducing the problem statement into top 10 tags**"
      ]
    },
    {
      "cell_type": "code",
      "metadata": {
        "id": "3CYgMuF6R882"
      },
      "source": [
        "grouped_tags=tags_df.groupby('Tag').size().reset_index(name='count')"
      ],
      "execution_count": null,
      "outputs": []
    },
    {
      "cell_type": "code",
      "metadata": {
        "colab": {
          "base_uri": "https://localhost:8080/",
          "height": 107
        },
        "id": "jDe6NRmbTE6C",
        "outputId": "b2cc4c5e-7451-4e64-8e19-c2c899c0215f"
      },
      "source": [
        "grouped_tags.head(n=2)"
      ],
      "execution_count": null,
      "outputs": [
        {
          "output_type": "execute_result",
          "data": {
            "text/html": [
              "<div>\n",
              "<style scoped>\n",
              "    .dataframe tbody tr th:only-of-type {\n",
              "        vertical-align: middle;\n",
              "    }\n",
              "\n",
              "    .dataframe tbody tr th {\n",
              "        vertical-align: top;\n",
              "    }\n",
              "\n",
              "    .dataframe thead th {\n",
              "        text-align: right;\n",
              "    }\n",
              "</style>\n",
              "<table border=\"1\" class=\"dataframe\">\n",
              "  <thead>\n",
              "    <tr style=\"text-align: right;\">\n",
              "      <th></th>\n",
              "      <th>Tag</th>\n",
              "      <th>count</th>\n",
              "    </tr>\n",
              "  </thead>\n",
              "  <tbody>\n",
              "    <tr>\n",
              "      <th>0</th>\n",
              "      <td>.a</td>\n",
              "      <td>13</td>\n",
              "    </tr>\n",
              "    <tr>\n",
              "      <th>1</th>\n",
              "      <td>.app</td>\n",
              "      <td>14</td>\n",
              "    </tr>\n",
              "  </tbody>\n",
              "</table>\n",
              "</div>"
            ],
            "text/plain": [
              "    Tag  count\n",
              "0    .a     13\n",
              "1  .app     14"
            ]
          },
          "metadata": {
            "tags": []
          },
          "execution_count": 13
        }
      ]
    },
    {
      "cell_type": "code",
      "metadata": {
        "colab": {
          "base_uri": "https://localhost:8080/"
        },
        "id": "OsbUHU-UTJQF",
        "outputId": "e04a8a87-577b-43dd-9e36-21f860aa15e6"
      },
      "source": [
        "grouped_tags.Tag.describe()"
      ],
      "execution_count": null,
      "outputs": [
        {
          "output_type": "execute_result",
          "data": {
            "text/plain": [
              "count        37034\n",
              "unique       37034\n",
              "top       hyperref\n",
              "freq             1\n",
              "Name: Tag, dtype: object"
            ]
          },
          "metadata": {
            "tags": []
          },
          "execution_count": 14
        }
      ]
    },
    {
      "cell_type": "code",
      "metadata": {
        "id": "sLo7XEi4TTeT"
      },
      "source": [
        "#Here we are reducing the problem to the  most common tags in the dataset)\n",
        "no_classes =10\n",
        "grouped_tags_copy=grouped_tags.copy()\n",
        "top_10_tags=grouped_tags_copy.nlargest(no_classes,columns=\"count\")\n"
      ],
      "execution_count": null,
      "outputs": []
    },
    {
      "cell_type": "code",
      "metadata": {
        "colab": {
          "base_uri": "https://localhost:8080/",
          "height": 345
        },
        "id": "aLSITocWsuKS",
        "outputId": "2dd2cd20-0a9c-4e83-db60-335cd3d00f26"
      },
      "source": [
        "top_10_tags"
      ],
      "execution_count": null,
      "outputs": [
        {
          "output_type": "execute_result",
          "data": {
            "text/html": [
              "<div>\n",
              "<style scoped>\n",
              "    .dataframe tbody tr th:only-of-type {\n",
              "        vertical-align: middle;\n",
              "    }\n",
              "\n",
              "    .dataframe tbody tr th {\n",
              "        vertical-align: top;\n",
              "    }\n",
              "\n",
              "    .dataframe thead th {\n",
              "        text-align: right;\n",
              "    }\n",
              "</style>\n",
              "<table border=\"1\" class=\"dataframe\">\n",
              "  <thead>\n",
              "    <tr style=\"text-align: right;\">\n",
              "      <th></th>\n",
              "      <th>Tag</th>\n",
              "      <th>count</th>\n",
              "    </tr>\n",
              "  </thead>\n",
              "  <tbody>\n",
              "    <tr>\n",
              "      <th>16121</th>\n",
              "      <td>javascript</td>\n",
              "      <td>124155</td>\n",
              "    </tr>\n",
              "    <tr>\n",
              "      <th>16020</th>\n",
              "      <td>java</td>\n",
              "      <td>115212</td>\n",
              "    </tr>\n",
              "    <tr>\n",
              "      <th>4301</th>\n",
              "      <td>c#</td>\n",
              "      <td>101186</td>\n",
              "    </tr>\n",
              "    <tr>\n",
              "      <th>24211</th>\n",
              "      <td>php</td>\n",
              "      <td>98808</td>\n",
              "    </tr>\n",
              "    <tr>\n",
              "      <th>979</th>\n",
              "      <td>android</td>\n",
              "      <td>90659</td>\n",
              "    </tr>\n",
              "    <tr>\n",
              "      <th>16611</th>\n",
              "      <td>jquery</td>\n",
              "      <td>78542</td>\n",
              "    </tr>\n",
              "    <tr>\n",
              "      <th>25712</th>\n",
              "      <td>python</td>\n",
              "      <td>64601</td>\n",
              "    </tr>\n",
              "    <tr>\n",
              "      <th>14180</th>\n",
              "      <td>html</td>\n",
              "      <td>58976</td>\n",
              "    </tr>\n",
              "    <tr>\n",
              "      <th>4311</th>\n",
              "      <td>c++</td>\n",
              "      <td>47591</td>\n",
              "    </tr>\n",
              "    <tr>\n",
              "      <th>15565</th>\n",
              "      <td>ios</td>\n",
              "      <td>47009</td>\n",
              "    </tr>\n",
              "  </tbody>\n",
              "</table>\n",
              "</div>"
            ],
            "text/plain": [
              "              Tag   count\n",
              "16121  javascript  124155\n",
              "16020        java  115212\n",
              "4301           c#  101186\n",
              "24211         php   98808\n",
              "979       android   90659\n",
              "16611      jquery   78542\n",
              "25712      python   64601\n",
              "14180        html   58976\n",
              "4311          c++   47591\n",
              "15565         ios   47009"
            ]
          },
          "metadata": {
            "tags": []
          },
          "execution_count": 16
        }
      ]
    },
    {
      "cell_type": "code",
      "metadata": {
        "id": "BXWiLZDZtq26"
      },
      "source": [
        "#filtering the top 10 tags data \n",
        "tags_df.Tag=tags_df.Tag.apply(lambda tag : tag if tag in top_10_tags.Tag.values else None)"
      ],
      "execution_count": null,
      "outputs": []
    },
    {
      "cell_type": "code",
      "metadata": {
        "colab": {
          "base_uri": "https://localhost:8080/",
          "height": 404
        },
        "id": "7XJMG25zv_fd",
        "outputId": "edcb47e4-d798-43f0-c70a-3eb886e8c42a"
      },
      "source": [
        "tags_df"
      ],
      "execution_count": null,
      "outputs": [
        {
          "output_type": "execute_result",
          "data": {
            "text/html": [
              "<div>\n",
              "<style scoped>\n",
              "    .dataframe tbody tr th:only-of-type {\n",
              "        vertical-align: middle;\n",
              "    }\n",
              "\n",
              "    .dataframe tbody tr th {\n",
              "        vertical-align: top;\n",
              "    }\n",
              "\n",
              "    .dataframe thead th {\n",
              "        text-align: right;\n",
              "    }\n",
              "</style>\n",
              "<table border=\"1\" class=\"dataframe\">\n",
              "  <thead>\n",
              "    <tr style=\"text-align: right;\">\n",
              "      <th></th>\n",
              "      <th>Id</th>\n",
              "      <th>Tag</th>\n",
              "    </tr>\n",
              "  </thead>\n",
              "  <tbody>\n",
              "    <tr>\n",
              "      <th>0</th>\n",
              "      <td>80</td>\n",
              "      <td>None</td>\n",
              "    </tr>\n",
              "    <tr>\n",
              "      <th>1</th>\n",
              "      <td>80</td>\n",
              "      <td>None</td>\n",
              "    </tr>\n",
              "    <tr>\n",
              "      <th>2</th>\n",
              "      <td>80</td>\n",
              "      <td>None</td>\n",
              "    </tr>\n",
              "    <tr>\n",
              "      <th>3</th>\n",
              "      <td>90</td>\n",
              "      <td>None</td>\n",
              "    </tr>\n",
              "    <tr>\n",
              "      <th>4</th>\n",
              "      <td>90</td>\n",
              "      <td>None</td>\n",
              "    </tr>\n",
              "    <tr>\n",
              "      <th>...</th>\n",
              "      <td>...</td>\n",
              "      <td>...</td>\n",
              "    </tr>\n",
              "    <tr>\n",
              "      <th>3750989</th>\n",
              "      <td>40143360</td>\n",
              "      <td>javascript</td>\n",
              "    </tr>\n",
              "    <tr>\n",
              "      <th>3750990</th>\n",
              "      <td>40143360</td>\n",
              "      <td>None</td>\n",
              "    </tr>\n",
              "    <tr>\n",
              "      <th>3750991</th>\n",
              "      <td>40143380</td>\n",
              "      <td>None</td>\n",
              "    </tr>\n",
              "    <tr>\n",
              "      <th>3750992</th>\n",
              "      <td>40143380</td>\n",
              "      <td>None</td>\n",
              "    </tr>\n",
              "    <tr>\n",
              "      <th>3750993</th>\n",
              "      <td>40143380</td>\n",
              "      <td>None</td>\n",
              "    </tr>\n",
              "  </tbody>\n",
              "</table>\n",
              "<p>3750994 rows × 2 columns</p>\n",
              "</div>"
            ],
            "text/plain": [
              "               Id         Tag\n",
              "0              80        None\n",
              "1              80        None\n",
              "2              80        None\n",
              "3              90        None\n",
              "4              90        None\n",
              "...           ...         ...\n",
              "3750989  40143360  javascript\n",
              "3750990  40143360        None\n",
              "3750991  40143380        None\n",
              "3750992  40143380        None\n",
              "3750993  40143380        None\n",
              "\n",
              "[3750994 rows x 2 columns]"
            ]
          },
          "metadata": {
            "tags": []
          },
          "execution_count": 18
        }
      ]
    },
    {
      "cell_type": "code",
      "metadata": {
        "id": "H989Q4i3wO-h"
      },
      "source": [
        "tags_df.dropna(inplace=True)"
      ],
      "execution_count": null,
      "outputs": []
    },
    {
      "cell_type": "code",
      "metadata": {
        "colab": {
          "base_uri": "https://localhost:8080/",
          "height": 404
        },
        "id": "M_1sd1j-xILA",
        "outputId": "69a12986-ac58-4d1e-b7b2-a1557696395f"
      },
      "source": [
        "tags_df"
      ],
      "execution_count": null,
      "outputs": [
        {
          "output_type": "execute_result",
          "data": {
            "text/html": [
              "<div>\n",
              "<style scoped>\n",
              "    .dataframe tbody tr th:only-of-type {\n",
              "        vertical-align: middle;\n",
              "    }\n",
              "\n",
              "    .dataframe tbody tr th {\n",
              "        vertical-align: top;\n",
              "    }\n",
              "\n",
              "    .dataframe thead th {\n",
              "        text-align: right;\n",
              "    }\n",
              "</style>\n",
              "<table border=\"1\" class=\"dataframe\">\n",
              "  <thead>\n",
              "    <tr style=\"text-align: right;\">\n",
              "      <th></th>\n",
              "      <th>Id</th>\n",
              "      <th>Tag</th>\n",
              "    </tr>\n",
              "  </thead>\n",
              "  <tbody>\n",
              "    <tr>\n",
              "      <th>14</th>\n",
              "      <td>260</td>\n",
              "      <td>c#</td>\n",
              "    </tr>\n",
              "    <tr>\n",
              "      <th>18</th>\n",
              "      <td>330</td>\n",
              "      <td>c++</td>\n",
              "    </tr>\n",
              "    <tr>\n",
              "      <th>28</th>\n",
              "      <td>650</td>\n",
              "      <td>c#</td>\n",
              "    </tr>\n",
              "    <tr>\n",
              "      <th>35</th>\n",
              "      <td>930</td>\n",
              "      <td>c#</td>\n",
              "    </tr>\n",
              "    <tr>\n",
              "      <th>39</th>\n",
              "      <td>1010</td>\n",
              "      <td>c#</td>\n",
              "    </tr>\n",
              "    <tr>\n",
              "      <th>...</th>\n",
              "      <td>...</td>\n",
              "      <td>...</td>\n",
              "    </tr>\n",
              "    <tr>\n",
              "      <th>3750974</th>\n",
              "      <td>40143150</td>\n",
              "      <td>javascript</td>\n",
              "    </tr>\n",
              "    <tr>\n",
              "      <th>3750981</th>\n",
              "      <td>40143190</td>\n",
              "      <td>python</td>\n",
              "    </tr>\n",
              "    <tr>\n",
              "      <th>3750984</th>\n",
              "      <td>40143210</td>\n",
              "      <td>php</td>\n",
              "    </tr>\n",
              "    <tr>\n",
              "      <th>3750987</th>\n",
              "      <td>40143340</td>\n",
              "      <td>android</td>\n",
              "    </tr>\n",
              "    <tr>\n",
              "      <th>3750989</th>\n",
              "      <td>40143360</td>\n",
              "      <td>javascript</td>\n",
              "    </tr>\n",
              "  </tbody>\n",
              "</table>\n",
              "<p>826739 rows × 2 columns</p>\n",
              "</div>"
            ],
            "text/plain": [
              "               Id         Tag\n",
              "14            260          c#\n",
              "18            330         c++\n",
              "28            650          c#\n",
              "35            930          c#\n",
              "39           1010          c#\n",
              "...           ...         ...\n",
              "3750974  40143150  javascript\n",
              "3750981  40143190      python\n",
              "3750984  40143210         php\n",
              "3750987  40143340     android\n",
              "3750989  40143360  javascript\n",
              "\n",
              "[826739 rows x 2 columns]"
            ]
          },
          "metadata": {
            "tags": []
          },
          "execution_count": 20
        }
      ]
    },
    {
      "cell_type": "markdown",
      "metadata": {
        "id": "CKM6I_WElkY0"
      },
      "source": [
        "## Step 3: **Data Pre-processesing**\n",
        "\n",
        "1. Preparing the contents of data frame \n",
        "\n",
        "*   Removing the html tags of Body column in questions_df\n",
        "*   Merging the Title and Body column in question_df\n",
        "* Filtering the Top 10 taged questions_df and merging the question_df & tags_df\n",
        "*Droping ununcessary columns\n",
        "\n",
        "\n",
        "2.   Label Creation\n",
        "\n",
        "*   Tokenization\n",
        "\n",
        "3.   Spliting the data into Train & Test \n",
        "\n",
        "\n",
        "\n",
        "\n",
        "\n",
        "\n",
        "\n",
        "\n",
        "\n",
        "\n"
      ]
    },
    {
      "cell_type": "code",
      "metadata": {
        "id": "Vg4ZuaM9xJ5p"
      },
      "source": [
        "#preparing the contents of dataframe\n",
        "# to remove the html tags\n",
        "import re\n",
        "\n",
        "def strip_html_tags(body):\n",
        "  regex = re.compile('<.*?>')\n",
        "  return re.sub(regex,'',body)"
      ],
      "execution_count": null,
      "outputs": []
    },
    {
      "cell_type": "code",
      "metadata": {
        "colab": {
          "base_uri": "https://localhost:8080/",
          "height": 107
        },
        "id": "sfbD_xfm1GpG",
        "outputId": "bc30d32c-9c55-4472-85cb-ee1f50feb9d8"
      },
      "source": [
        "questions_df.head(n=2)"
      ],
      "execution_count": null,
      "outputs": [
        {
          "output_type": "execute_result",
          "data": {
            "text/html": [
              "<div>\n",
              "<style scoped>\n",
              "    .dataframe tbody tr th:only-of-type {\n",
              "        vertical-align: middle;\n",
              "    }\n",
              "\n",
              "    .dataframe tbody tr th {\n",
              "        vertical-align: top;\n",
              "    }\n",
              "\n",
              "    .dataframe thead th {\n",
              "        text-align: right;\n",
              "    }\n",
              "</style>\n",
              "<table border=\"1\" class=\"dataframe\">\n",
              "  <thead>\n",
              "    <tr style=\"text-align: right;\">\n",
              "      <th></th>\n",
              "      <th>Id</th>\n",
              "      <th>OwnerUserId</th>\n",
              "      <th>CreationDate</th>\n",
              "      <th>ClosedDate</th>\n",
              "      <th>Score</th>\n",
              "      <th>Title</th>\n",
              "      <th>Body</th>\n",
              "    </tr>\n",
              "  </thead>\n",
              "  <tbody>\n",
              "    <tr>\n",
              "      <th>0</th>\n",
              "      <td>80</td>\n",
              "      <td>26.0</td>\n",
              "      <td>2008-08-01T13:57:07Z</td>\n",
              "      <td>NaN</td>\n",
              "      <td>26</td>\n",
              "      <td>SQLStatement.execute() - multiple queries in o...</td>\n",
              "      <td>&lt;p&gt;I've written a database generation script i...</td>\n",
              "    </tr>\n",
              "    <tr>\n",
              "      <th>1</th>\n",
              "      <td>90</td>\n",
              "      <td>58.0</td>\n",
              "      <td>2008-08-01T14:41:24Z</td>\n",
              "      <td>2012-12-26T03:45:49Z</td>\n",
              "      <td>144</td>\n",
              "      <td>Good branching and merging tutorials for Torto...</td>\n",
              "      <td>&lt;p&gt;Are there any really good tutorials explain...</td>\n",
              "    </tr>\n",
              "  </tbody>\n",
              "</table>\n",
              "</div>"
            ],
            "text/plain": [
              "   Id  ...                                               Body\n",
              "0  80  ...  <p>I've written a database generation script i...\n",
              "1  90  ...  <p>Are there any really good tutorials explain...\n",
              "\n",
              "[2 rows x 7 columns]"
            ]
          },
          "metadata": {
            "tags": []
          },
          "execution_count": 22
        }
      ]
    },
    {
      "cell_type": "code",
      "metadata": {
        "colab": {
          "base_uri": "https://localhost:8080/"
        },
        "id": "3omclF4w1duU",
        "outputId": "350ac0c9-e618-4afc-b2d1-436d5c71d63e"
      },
      "source": [
        "questions_df.columns"
      ],
      "execution_count": null,
      "outputs": [
        {
          "output_type": "execute_result",
          "data": {
            "text/plain": [
              "Index(['Id', 'OwnerUserId', 'CreationDate', 'ClosedDate', 'Score', 'Title',\n",
              "       'Body'],\n",
              "      dtype='object')"
            ]
          },
          "metadata": {
            "tags": []
          },
          "execution_count": 23
        }
      ]
    },
    {
      "cell_type": "code",
      "metadata": {
        "id": "PMFXpnFD0TVT"
      },
      "source": [
        "questions_df['Body']=questions_df.Body.apply(strip_html_tags)"
      ],
      "execution_count": null,
      "outputs": []
    },
    {
      "cell_type": "code",
      "metadata": {
        "colab": {
          "base_uri": "https://localhost:8080/"
        },
        "id": "_qS13fcE1sJv",
        "outputId": "de79fc2b-d9e2-471d-c3d6-8ba470294a04"
      },
      "source": [
        "questions_df['Body']"
      ],
      "execution_count": null,
      "outputs": [
        {
          "output_type": "execute_result",
          "data": {
            "text/plain": [
              "0          I've written a database generation script in S...\n",
              "1          Are there any really good tutorials explaining...\n",
              "2          Has anyone got experience creating SQL-based A...\n",
              "3          This is something I've pseudo-solved many time...\n",
              "4          I have a little game written in C#. It uses a ...\n",
              "                                 ...                        \n",
              "1264211    I am building a custom MVC project and I have ...\n",
              "1264212    The API docs show that you should be able to m...\n",
              "1264213    Under minifyEnabled I changed from false to tr...\n",
              "1264214    I have input which I use to filter my array of...\n",
              "1264215    I'm running a mocha test and I noticed my chan...\n",
              "Name: Body, Length: 1264216, dtype: object"
            ]
          },
          "metadata": {
            "tags": []
          },
          "execution_count": 25
        }
      ]
    },
    {
      "cell_type": "code",
      "metadata": {
        "id": "kBIXPDW-13da"
      },
      "source": [
        "questions_df['Text']=questions_df['Title']+' '+questions_df['Body']"
      ],
      "execution_count": null,
      "outputs": []
    },
    {
      "cell_type": "code",
      "metadata": {
        "colab": {
          "base_uri": "https://localhost:8080/"
        },
        "id": "aXpRpmPc2vWR",
        "outputId": "8e015206-be11-4938-af66-691bbd2765f8"
      },
      "source": [
        "questions_df['Text']"
      ],
      "execution_count": null,
      "outputs": [
        {
          "output_type": "execute_result",
          "data": {
            "text/plain": [
              "0          SQLStatement.execute() - multiple queries in o...\n",
              "1          Good branching and merging tutorials for Torto...\n",
              "2          ASP.NET Site Maps Has anyone got experience cr...\n",
              "3          Function for creating color wheels This is som...\n",
              "4          Adding scripting functionality to .NET applica...\n",
              "                                 ...                        \n",
              "1264211    URL routing in PHP (MVC) I am building a custo...\n",
              "1264212    Bigquery.Jobs.Insert - Resumable Upload? The A...\n",
              "1264213    Obfuscating code in android studio Under minif...\n",
              "1264214    How to fire function after v-model change? I h...\n",
              "1264215    npm run mocha test - files being cached I'm ru...\n",
              "Name: Text, Length: 1264216, dtype: object"
            ]
          },
          "metadata": {
            "tags": []
          },
          "execution_count": 27
        }
      ]
    },
    {
      "cell_type": "code",
      "metadata": {
        "colab": {
          "base_uri": "https://localhost:8080/"
        },
        "id": "m3RjqcND20H-",
        "outputId": "6dff61af-3818-4eb8-cb2d-cf0c992c063b"
      },
      "source": [
        "questions_df.shape"
      ],
      "execution_count": null,
      "outputs": [
        {
          "output_type": "execute_result",
          "data": {
            "text/plain": [
              "(1264216, 8)"
            ]
          },
          "metadata": {
            "tags": []
          },
          "execution_count": 28
        }
      ]
    },
    {
      "cell_type": "code",
      "metadata": {
        "colab": {
          "base_uri": "https://localhost:8080/"
        },
        "id": "p7KhxZD-3CcA",
        "outputId": "763707a9-12ef-4be1-ecb0-99097a23984f"
      },
      "source": [
        "tags_df.shape"
      ],
      "execution_count": null,
      "outputs": [
        {
          "output_type": "execute_result",
          "data": {
            "text/plain": [
              "(826739, 2)"
            ]
          },
          "metadata": {
            "tags": []
          },
          "execution_count": 29
        }
      ]
    },
    {
      "cell_type": "code",
      "metadata": {
        "colab": {
          "base_uri": "https://localhost:8080/",
          "height": 196
        },
        "id": "KPPRNZqu3K-s",
        "outputId": "7e06efd5-52f7-491d-82fa-21171891bf78"
      },
      "source": [
        "tags_df.head()"
      ],
      "execution_count": null,
      "outputs": [
        {
          "output_type": "execute_result",
          "data": {
            "text/html": [
              "<div>\n",
              "<style scoped>\n",
              "    .dataframe tbody tr th:only-of-type {\n",
              "        vertical-align: middle;\n",
              "    }\n",
              "\n",
              "    .dataframe tbody tr th {\n",
              "        vertical-align: top;\n",
              "    }\n",
              "\n",
              "    .dataframe thead th {\n",
              "        text-align: right;\n",
              "    }\n",
              "</style>\n",
              "<table border=\"1\" class=\"dataframe\">\n",
              "  <thead>\n",
              "    <tr style=\"text-align: right;\">\n",
              "      <th></th>\n",
              "      <th>Id</th>\n",
              "      <th>Tag</th>\n",
              "    </tr>\n",
              "  </thead>\n",
              "  <tbody>\n",
              "    <tr>\n",
              "      <th>14</th>\n",
              "      <td>260</td>\n",
              "      <td>c#</td>\n",
              "    </tr>\n",
              "    <tr>\n",
              "      <th>18</th>\n",
              "      <td>330</td>\n",
              "      <td>c++</td>\n",
              "    </tr>\n",
              "    <tr>\n",
              "      <th>28</th>\n",
              "      <td>650</td>\n",
              "      <td>c#</td>\n",
              "    </tr>\n",
              "    <tr>\n",
              "      <th>35</th>\n",
              "      <td>930</td>\n",
              "      <td>c#</td>\n",
              "    </tr>\n",
              "    <tr>\n",
              "      <th>39</th>\n",
              "      <td>1010</td>\n",
              "      <td>c#</td>\n",
              "    </tr>\n",
              "  </tbody>\n",
              "</table>\n",
              "</div>"
            ],
            "text/plain": [
              "      Id  Tag\n",
              "14   260   c#\n",
              "18   330  c++\n",
              "28   650   c#\n",
              "35   930   c#\n",
              "39  1010   c#"
            ]
          },
          "metadata": {
            "tags": []
          },
          "execution_count": 30
        }
      ]
    },
    {
      "cell_type": "code",
      "metadata": {
        "colab": {
          "base_uri": "https://localhost:8080/",
          "height": 280
        },
        "id": "E7H306h-3uIg",
        "outputId": "46c09541-892c-437a-d3f9-468c6f99abac"
      },
      "source": [
        "questions_df.sort_values('Id').head()"
      ],
      "execution_count": null,
      "outputs": [
        {
          "output_type": "execute_result",
          "data": {
            "text/html": [
              "<div>\n",
              "<style scoped>\n",
              "    .dataframe tbody tr th:only-of-type {\n",
              "        vertical-align: middle;\n",
              "    }\n",
              "\n",
              "    .dataframe tbody tr th {\n",
              "        vertical-align: top;\n",
              "    }\n",
              "\n",
              "    .dataframe thead th {\n",
              "        text-align: right;\n",
              "    }\n",
              "</style>\n",
              "<table border=\"1\" class=\"dataframe\">\n",
              "  <thead>\n",
              "    <tr style=\"text-align: right;\">\n",
              "      <th></th>\n",
              "      <th>Id</th>\n",
              "      <th>OwnerUserId</th>\n",
              "      <th>CreationDate</th>\n",
              "      <th>ClosedDate</th>\n",
              "      <th>Score</th>\n",
              "      <th>Title</th>\n",
              "      <th>Body</th>\n",
              "      <th>Text</th>\n",
              "    </tr>\n",
              "  </thead>\n",
              "  <tbody>\n",
              "    <tr>\n",
              "      <th>0</th>\n",
              "      <td>80</td>\n",
              "      <td>26.0</td>\n",
              "      <td>2008-08-01T13:57:07Z</td>\n",
              "      <td>NaN</td>\n",
              "      <td>26</td>\n",
              "      <td>SQLStatement.execute() - multiple queries in o...</td>\n",
              "      <td>I've written a database generation script in S...</td>\n",
              "      <td>SQLStatement.execute() - multiple queries in o...</td>\n",
              "    </tr>\n",
              "    <tr>\n",
              "      <th>1</th>\n",
              "      <td>90</td>\n",
              "      <td>58.0</td>\n",
              "      <td>2008-08-01T14:41:24Z</td>\n",
              "      <td>2012-12-26T03:45:49Z</td>\n",
              "      <td>144</td>\n",
              "      <td>Good branching and merging tutorials for Torto...</td>\n",
              "      <td>Are there any really good tutorials explaining...</td>\n",
              "      <td>Good branching and merging tutorials for Torto...</td>\n",
              "    </tr>\n",
              "    <tr>\n",
              "      <th>2</th>\n",
              "      <td>120</td>\n",
              "      <td>83.0</td>\n",
              "      <td>2008-08-01T15:50:08Z</td>\n",
              "      <td>NaN</td>\n",
              "      <td>21</td>\n",
              "      <td>ASP.NET Site Maps</td>\n",
              "      <td>Has anyone got experience creating SQL-based A...</td>\n",
              "      <td>ASP.NET Site Maps Has anyone got experience cr...</td>\n",
              "    </tr>\n",
              "    <tr>\n",
              "      <th>3</th>\n",
              "      <td>180</td>\n",
              "      <td>2089740.0</td>\n",
              "      <td>2008-08-01T18:42:19Z</td>\n",
              "      <td>NaN</td>\n",
              "      <td>53</td>\n",
              "      <td>Function for creating color wheels</td>\n",
              "      <td>This is something I've pseudo-solved many time...</td>\n",
              "      <td>Function for creating color wheels This is som...</td>\n",
              "    </tr>\n",
              "    <tr>\n",
              "      <th>4</th>\n",
              "      <td>260</td>\n",
              "      <td>91.0</td>\n",
              "      <td>2008-08-01T23:22:08Z</td>\n",
              "      <td>NaN</td>\n",
              "      <td>49</td>\n",
              "      <td>Adding scripting functionality to .NET applica...</td>\n",
              "      <td>I have a little game written in C#. It uses a ...</td>\n",
              "      <td>Adding scripting functionality to .NET applica...</td>\n",
              "    </tr>\n",
              "  </tbody>\n",
              "</table>\n",
              "</div>"
            ],
            "text/plain": [
              "    Id  ...                                               Text\n",
              "0   80  ...  SQLStatement.execute() - multiple queries in o...\n",
              "1   90  ...  Good branching and merging tutorials for Torto...\n",
              "2  120  ...  ASP.NET Site Maps Has anyone got experience cr...\n",
              "3  180  ...  Function for creating color wheels This is som...\n",
              "4  260  ...  Adding scripting functionality to .NET applica...\n",
              "\n",
              "[5 rows x 8 columns]"
            ]
          },
          "metadata": {
            "tags": []
          },
          "execution_count": 31
        }
      ]
    },
    {
      "cell_type": "code",
      "metadata": {
        "colab": {
          "base_uri": "https://localhost:8080/",
          "height": 196
        },
        "id": "zsjfpgh14IuJ",
        "outputId": "d3cd6eda-4db6-4160-daba-569ff7366fae"
      },
      "source": [
        "tags_df.sort_values('Id').head()"
      ],
      "execution_count": null,
      "outputs": [
        {
          "output_type": "execute_result",
          "data": {
            "text/html": [
              "<div>\n",
              "<style scoped>\n",
              "    .dataframe tbody tr th:only-of-type {\n",
              "        vertical-align: middle;\n",
              "    }\n",
              "\n",
              "    .dataframe tbody tr th {\n",
              "        vertical-align: top;\n",
              "    }\n",
              "\n",
              "    .dataframe thead th {\n",
              "        text-align: right;\n",
              "    }\n",
              "</style>\n",
              "<table border=\"1\" class=\"dataframe\">\n",
              "  <thead>\n",
              "    <tr style=\"text-align: right;\">\n",
              "      <th></th>\n",
              "      <th>Id</th>\n",
              "      <th>Tag</th>\n",
              "    </tr>\n",
              "  </thead>\n",
              "  <tbody>\n",
              "    <tr>\n",
              "      <th>14</th>\n",
              "      <td>260</td>\n",
              "      <td>c#</td>\n",
              "    </tr>\n",
              "    <tr>\n",
              "      <th>18</th>\n",
              "      <td>330</td>\n",
              "      <td>c++</td>\n",
              "    </tr>\n",
              "    <tr>\n",
              "      <th>28</th>\n",
              "      <td>650</td>\n",
              "      <td>c#</td>\n",
              "    </tr>\n",
              "    <tr>\n",
              "      <th>35</th>\n",
              "      <td>930</td>\n",
              "      <td>c#</td>\n",
              "    </tr>\n",
              "    <tr>\n",
              "      <th>39</th>\n",
              "      <td>1010</td>\n",
              "      <td>c#</td>\n",
              "    </tr>\n",
              "  </tbody>\n",
              "</table>\n",
              "</div>"
            ],
            "text/plain": [
              "      Id  Tag\n",
              "14   260   c#\n",
              "18   330  c++\n",
              "28   650   c#\n",
              "35   930   c#\n",
              "39  1010   c#"
            ]
          },
          "metadata": {
            "tags": []
          },
          "execution_count": 32
        }
      ]
    },
    {
      "cell_type": "code",
      "metadata": {
        "colab": {
          "base_uri": "https://localhost:8080/"
        },
        "id": "_SHBc5Cs4eJd",
        "outputId": "c9b25cb6-15e9-4f57-fc0f-f427be839fb8"
      },
      "source": [
        "tags_df.nunique()"
      ],
      "execution_count": null,
      "outputs": [
        {
          "output_type": "execute_result",
          "data": {
            "text/plain": [
              "Id     706336\n",
              "Tag        10\n",
              "dtype: int64"
            ]
          },
          "metadata": {
            "tags": []
          },
          "execution_count": 33
        }
      ]
    },
    {
      "cell_type": "code",
      "metadata": {
        "id": "UkGX1jsk5GZ_"
      },
      "source": [
        "tags_Ids=list(tags_df['Id'])"
      ],
      "execution_count": null,
      "outputs": []
    },
    {
      "cell_type": "code",
      "metadata": {
        "id": "JscrvwKZ5xZS"
      },
      "source": [
        "questions_df_top_10=questions_df[questions_df['Id'].isin(tags_Ids)]"
      ],
      "execution_count": null,
      "outputs": []
    },
    {
      "cell_type": "code",
      "metadata": {
        "colab": {
          "base_uri": "https://localhost:8080/",
          "height": 572
        },
        "id": "DVLHyCB-5zCC",
        "outputId": "d4693aee-e420-4afb-cb2b-d16d1a474f9f"
      },
      "source": [
        "questions_df_top_10"
      ],
      "execution_count": null,
      "outputs": [
        {
          "output_type": "execute_result",
          "data": {
            "text/html": [
              "<div>\n",
              "<style scoped>\n",
              "    .dataframe tbody tr th:only-of-type {\n",
              "        vertical-align: middle;\n",
              "    }\n",
              "\n",
              "    .dataframe tbody tr th {\n",
              "        vertical-align: top;\n",
              "    }\n",
              "\n",
              "    .dataframe thead th {\n",
              "        text-align: right;\n",
              "    }\n",
              "</style>\n",
              "<table border=\"1\" class=\"dataframe\">\n",
              "  <thead>\n",
              "    <tr style=\"text-align: right;\">\n",
              "      <th></th>\n",
              "      <th>Id</th>\n",
              "      <th>OwnerUserId</th>\n",
              "      <th>CreationDate</th>\n",
              "      <th>ClosedDate</th>\n",
              "      <th>Score</th>\n",
              "      <th>Title</th>\n",
              "      <th>Body</th>\n",
              "      <th>Text</th>\n",
              "    </tr>\n",
              "  </thead>\n",
              "  <tbody>\n",
              "    <tr>\n",
              "      <th>4</th>\n",
              "      <td>260</td>\n",
              "      <td>91.0</td>\n",
              "      <td>2008-08-01T23:22:08Z</td>\n",
              "      <td>NaN</td>\n",
              "      <td>49</td>\n",
              "      <td>Adding scripting functionality to .NET applica...</td>\n",
              "      <td>I have a little game written in C#. It uses a ...</td>\n",
              "      <td>Adding scripting functionality to .NET applica...</td>\n",
              "    </tr>\n",
              "    <tr>\n",
              "      <th>5</th>\n",
              "      <td>330</td>\n",
              "      <td>63.0</td>\n",
              "      <td>2008-08-02T02:51:36Z</td>\n",
              "      <td>NaN</td>\n",
              "      <td>29</td>\n",
              "      <td>Should I use nested classes in this case?</td>\n",
              "      <td>I am working on a collection of classes used f...</td>\n",
              "      <td>Should I use nested classes in this case? I am...</td>\n",
              "    </tr>\n",
              "    <tr>\n",
              "      <th>8</th>\n",
              "      <td>650</td>\n",
              "      <td>143.0</td>\n",
              "      <td>2008-08-03T11:12:52Z</td>\n",
              "      <td>NaN</td>\n",
              "      <td>79</td>\n",
              "      <td>Automatically update version number</td>\n",
              "      <td>I would like the version property of my applic...</td>\n",
              "      <td>Automatically update version number I would li...</td>\n",
              "    </tr>\n",
              "    <tr>\n",
              "      <th>10</th>\n",
              "      <td>930</td>\n",
              "      <td>245.0</td>\n",
              "      <td>2008-08-04T00:47:25Z</td>\n",
              "      <td>NaN</td>\n",
              "      <td>28</td>\n",
              "      <td>How do I connect to a database and loop over a...</td>\n",
              "      <td>What's the simplest way to connect and query a...</td>\n",
              "      <td>How do I connect to a database and loop over a...</td>\n",
              "    </tr>\n",
              "    <tr>\n",
              "      <th>11</th>\n",
              "      <td>1010</td>\n",
              "      <td>67.0</td>\n",
              "      <td>2008-08-04T03:59:42Z</td>\n",
              "      <td>NaN</td>\n",
              "      <td>14</td>\n",
              "      <td>How to get the value of built, encoded ViewState?</td>\n",
              "      <td>I need to grab the base64-encoded representati...</td>\n",
              "      <td>How to get the value of built, encoded ViewSta...</td>\n",
              "    </tr>\n",
              "    <tr>\n",
              "      <th>...</th>\n",
              "      <td>...</td>\n",
              "      <td>...</td>\n",
              "      <td>...</td>\n",
              "      <td>...</td>\n",
              "      <td>...</td>\n",
              "      <td>...</td>\n",
              "      <td>...</td>\n",
              "      <td>...</td>\n",
              "    </tr>\n",
              "    <tr>\n",
              "      <th>1264208</th>\n",
              "      <td>40143150</td>\n",
              "      <td>5496690.0</td>\n",
              "      <td>2016-10-19T23:31:41Z</td>\n",
              "      <td>NaN</td>\n",
              "      <td>0</td>\n",
              "      <td>YouTube iFrame API: no ready call, no error call</td>\n",
              "      <td>I'm trying to detect the \"flash out of date\" e...</td>\n",
              "      <td>YouTube iFrame API: no ready call, no error ca...</td>\n",
              "    </tr>\n",
              "    <tr>\n",
              "      <th>1264210</th>\n",
              "      <td>40143190</td>\n",
              "      <td>333403.0</td>\n",
              "      <td>2016-10-19T23:36:01Z</td>\n",
              "      <td>NaN</td>\n",
              "      <td>1</td>\n",
              "      <td>How to execute multiline python code from a ba...</td>\n",
              "      <td>I need to extend a shell script (bash). As I a...</td>\n",
              "      <td>How to execute multiline python code from a ba...</td>\n",
              "    </tr>\n",
              "    <tr>\n",
              "      <th>1264211</th>\n",
              "      <td>40143210</td>\n",
              "      <td>5610777.0</td>\n",
              "      <td>2016-10-19T23:38:01Z</td>\n",
              "      <td>NaN</td>\n",
              "      <td>0</td>\n",
              "      <td>URL routing in PHP (MVC)</td>\n",
              "      <td>I am building a custom MVC project and I have ...</td>\n",
              "      <td>URL routing in PHP (MVC) I am building a custo...</td>\n",
              "    </tr>\n",
              "    <tr>\n",
              "      <th>1264213</th>\n",
              "      <td>40143340</td>\n",
              "      <td>7028647.0</td>\n",
              "      <td>2016-10-19T23:52:50Z</td>\n",
              "      <td>NaN</td>\n",
              "      <td>1</td>\n",
              "      <td>Obfuscating code in android studio</td>\n",
              "      <td>Under minifyEnabled I changed from false to tr...</td>\n",
              "      <td>Obfuscating code in android studio Under minif...</td>\n",
              "    </tr>\n",
              "    <tr>\n",
              "      <th>1264214</th>\n",
              "      <td>40143360</td>\n",
              "      <td>871677.0</td>\n",
              "      <td>2016-10-19T23:55:24Z</td>\n",
              "      <td>NaN</td>\n",
              "      <td>0</td>\n",
              "      <td>How to fire function after v-model change?</td>\n",
              "      <td>I have input which I use to filter my array of...</td>\n",
              "      <td>How to fire function after v-model change? I h...</td>\n",
              "    </tr>\n",
              "  </tbody>\n",
              "</table>\n",
              "<p>706336 rows × 8 columns</p>\n",
              "</div>"
            ],
            "text/plain": [
              "               Id  ...                                               Text\n",
              "4             260  ...  Adding scripting functionality to .NET applica...\n",
              "5             330  ...  Should I use nested classes in this case? I am...\n",
              "8             650  ...  Automatically update version number I would li...\n",
              "10            930  ...  How do I connect to a database and loop over a...\n",
              "11           1010  ...  How to get the value of built, encoded ViewSta...\n",
              "...           ...  ...                                                ...\n",
              "1264208  40143150  ...  YouTube iFrame API: no ready call, no error ca...\n",
              "1264210  40143190  ...  How to execute multiline python code from a ba...\n",
              "1264211  40143210  ...  URL routing in PHP (MVC) I am building a custo...\n",
              "1264213  40143340  ...  Obfuscating code in android studio Under minif...\n",
              "1264214  40143360  ...  How to fire function after v-model change? I h...\n",
              "\n",
              "[706336 rows x 8 columns]"
            ]
          },
          "metadata": {
            "tags": []
          },
          "execution_count": 36
        }
      ]
    },
    {
      "cell_type": "code",
      "metadata": {
        "id": "xagIE4Wm6QU1"
      },
      "source": [
        "#merging the data(questions_df_top_10 & tags_df)\n",
        "questions_df_top_10=questions_df_top_10.merge(tags_df)"
      ],
      "execution_count": null,
      "outputs": []
    },
    {
      "cell_type": "code",
      "metadata": {
        "colab": {
          "base_uri": "https://localhost:8080/",
          "height": 280
        },
        "id": "cJJuKN5n6sei",
        "outputId": "2a4edb67-72c9-40fb-c2a0-f90a711aaa77"
      },
      "source": [
        "questions_df_top_10.head()"
      ],
      "execution_count": null,
      "outputs": [
        {
          "output_type": "execute_result",
          "data": {
            "text/html": [
              "<div>\n",
              "<style scoped>\n",
              "    .dataframe tbody tr th:only-of-type {\n",
              "        vertical-align: middle;\n",
              "    }\n",
              "\n",
              "    .dataframe tbody tr th {\n",
              "        vertical-align: top;\n",
              "    }\n",
              "\n",
              "    .dataframe thead th {\n",
              "        text-align: right;\n",
              "    }\n",
              "</style>\n",
              "<table border=\"1\" class=\"dataframe\">\n",
              "  <thead>\n",
              "    <tr style=\"text-align: right;\">\n",
              "      <th></th>\n",
              "      <th>Id</th>\n",
              "      <th>OwnerUserId</th>\n",
              "      <th>CreationDate</th>\n",
              "      <th>ClosedDate</th>\n",
              "      <th>Score</th>\n",
              "      <th>Title</th>\n",
              "      <th>Body</th>\n",
              "      <th>Text</th>\n",
              "      <th>Tag</th>\n",
              "    </tr>\n",
              "  </thead>\n",
              "  <tbody>\n",
              "    <tr>\n",
              "      <th>0</th>\n",
              "      <td>260</td>\n",
              "      <td>91.0</td>\n",
              "      <td>2008-08-01T23:22:08Z</td>\n",
              "      <td>NaN</td>\n",
              "      <td>49</td>\n",
              "      <td>Adding scripting functionality to .NET applica...</td>\n",
              "      <td>I have a little game written in C#. It uses a ...</td>\n",
              "      <td>Adding scripting functionality to .NET applica...</td>\n",
              "      <td>c#</td>\n",
              "    </tr>\n",
              "    <tr>\n",
              "      <th>1</th>\n",
              "      <td>330</td>\n",
              "      <td>63.0</td>\n",
              "      <td>2008-08-02T02:51:36Z</td>\n",
              "      <td>NaN</td>\n",
              "      <td>29</td>\n",
              "      <td>Should I use nested classes in this case?</td>\n",
              "      <td>I am working on a collection of classes used f...</td>\n",
              "      <td>Should I use nested classes in this case? I am...</td>\n",
              "      <td>c++</td>\n",
              "    </tr>\n",
              "    <tr>\n",
              "      <th>2</th>\n",
              "      <td>650</td>\n",
              "      <td>143.0</td>\n",
              "      <td>2008-08-03T11:12:52Z</td>\n",
              "      <td>NaN</td>\n",
              "      <td>79</td>\n",
              "      <td>Automatically update version number</td>\n",
              "      <td>I would like the version property of my applic...</td>\n",
              "      <td>Automatically update version number I would li...</td>\n",
              "      <td>c#</td>\n",
              "    </tr>\n",
              "    <tr>\n",
              "      <th>3</th>\n",
              "      <td>930</td>\n",
              "      <td>245.0</td>\n",
              "      <td>2008-08-04T00:47:25Z</td>\n",
              "      <td>NaN</td>\n",
              "      <td>28</td>\n",
              "      <td>How do I connect to a database and loop over a...</td>\n",
              "      <td>What's the simplest way to connect and query a...</td>\n",
              "      <td>How do I connect to a database and loop over a...</td>\n",
              "      <td>c#</td>\n",
              "    </tr>\n",
              "    <tr>\n",
              "      <th>4</th>\n",
              "      <td>1010</td>\n",
              "      <td>67.0</td>\n",
              "      <td>2008-08-04T03:59:42Z</td>\n",
              "      <td>NaN</td>\n",
              "      <td>14</td>\n",
              "      <td>How to get the value of built, encoded ViewState?</td>\n",
              "      <td>I need to grab the base64-encoded representati...</td>\n",
              "      <td>How to get the value of built, encoded ViewSta...</td>\n",
              "      <td>c#</td>\n",
              "    </tr>\n",
              "  </tbody>\n",
              "</table>\n",
              "</div>"
            ],
            "text/plain": [
              "     Id  OwnerUserId  ...                                               Text  Tag\n",
              "0   260         91.0  ...  Adding scripting functionality to .NET applica...   c#\n",
              "1   330         63.0  ...  Should I use nested classes in this case? I am...  c++\n",
              "2   650        143.0  ...  Automatically update version number I would li...   c#\n",
              "3   930        245.0  ...  How do I connect to a database and loop over a...   c#\n",
              "4  1010         67.0  ...  How to get the value of built, encoded ViewSta...   c#\n",
              "\n",
              "[5 rows x 9 columns]"
            ]
          },
          "metadata": {
            "tags": []
          },
          "execution_count": 38
        }
      ]
    },
    {
      "cell_type": "code",
      "metadata": {
        "colab": {
          "base_uri": "https://localhost:8080/"
        },
        "id": "74G3A_rl75x2",
        "outputId": "085f837a-2ad4-4b78-9fd6-cb49e8b955fb"
      },
      "source": [
        "questions_df_top_10.columns"
      ],
      "execution_count": null,
      "outputs": [
        {
          "output_type": "execute_result",
          "data": {
            "text/plain": [
              "Index(['Id', 'OwnerUserId', 'CreationDate', 'ClosedDate', 'Score', 'Title',\n",
              "       'Body', 'Text', 'Tag'],\n",
              "      dtype='object')"
            ]
          },
          "metadata": {
            "tags": []
          },
          "execution_count": 39
        }
      ]
    },
    {
      "cell_type": "code",
      "metadata": {
        "id": "OxdpfbZX6wFo"
      },
      "source": [
        "#droping ununcessary columns\n",
        "questions_df_top_10.drop(['OwnerUserId','CreationDate','ClosedDate','Score','Title',\n",
        "       'Body'],axis=1,inplace=True)"
      ],
      "execution_count": null,
      "outputs": []
    },
    {
      "cell_type": "code",
      "metadata": {
        "colab": {
          "base_uri": "https://localhost:8080/",
          "height": 196
        },
        "id": "LPUNUzdU8tzy",
        "outputId": "3d5a0afe-1eb3-4ad5-8196-260a67c3320e"
      },
      "source": [
        "questions_df_top_10.head()"
      ],
      "execution_count": null,
      "outputs": [
        {
          "output_type": "execute_result",
          "data": {
            "text/html": [
              "<div>\n",
              "<style scoped>\n",
              "    .dataframe tbody tr th:only-of-type {\n",
              "        vertical-align: middle;\n",
              "    }\n",
              "\n",
              "    .dataframe tbody tr th {\n",
              "        vertical-align: top;\n",
              "    }\n",
              "\n",
              "    .dataframe thead th {\n",
              "        text-align: right;\n",
              "    }\n",
              "</style>\n",
              "<table border=\"1\" class=\"dataframe\">\n",
              "  <thead>\n",
              "    <tr style=\"text-align: right;\">\n",
              "      <th></th>\n",
              "      <th>Id</th>\n",
              "      <th>Text</th>\n",
              "      <th>Tag</th>\n",
              "    </tr>\n",
              "  </thead>\n",
              "  <tbody>\n",
              "    <tr>\n",
              "      <th>0</th>\n",
              "      <td>260</td>\n",
              "      <td>Adding scripting functionality to .NET applica...</td>\n",
              "      <td>c#</td>\n",
              "    </tr>\n",
              "    <tr>\n",
              "      <th>1</th>\n",
              "      <td>330</td>\n",
              "      <td>Should I use nested classes in this case? I am...</td>\n",
              "      <td>c++</td>\n",
              "    </tr>\n",
              "    <tr>\n",
              "      <th>2</th>\n",
              "      <td>650</td>\n",
              "      <td>Automatically update version number I would li...</td>\n",
              "      <td>c#</td>\n",
              "    </tr>\n",
              "    <tr>\n",
              "      <th>3</th>\n",
              "      <td>930</td>\n",
              "      <td>How do I connect to a database and loop over a...</td>\n",
              "      <td>c#</td>\n",
              "    </tr>\n",
              "    <tr>\n",
              "      <th>4</th>\n",
              "      <td>1010</td>\n",
              "      <td>How to get the value of built, encoded ViewSta...</td>\n",
              "      <td>c#</td>\n",
              "    </tr>\n",
              "  </tbody>\n",
              "</table>\n",
              "</div>"
            ],
            "text/plain": [
              "     Id                                               Text  Tag\n",
              "0   260  Adding scripting functionality to .NET applica...   c#\n",
              "1   330  Should I use nested classes in this case? I am...  c++\n",
              "2   650  Automatically update version number I would li...   c#\n",
              "3   930  How do I connect to a database and loop over a...   c#\n",
              "4  1010  How to get the value of built, encoded ViewSta...   c#"
            ]
          },
          "metadata": {
            "tags": []
          },
          "execution_count": 41
        }
      ]
    },
    {
      "cell_type": "code",
      "metadata": {
        "id": "1D6oNE3R8xoy"
      },
      "source": [
        "from keras.preprocessing.text import Tokenizer\n",
        "from keras.preprocessing.sequence import pad_sequences\n",
        "from sklearn.preprocessing import MultiLabelBinarizer"
      ],
      "execution_count": null,
      "outputs": []
    },
    {
      "cell_type": "code",
      "metadata": {
        "colab": {
          "base_uri": "https://localhost:8080/"
        },
        "id": "lnH_B51p84wL",
        "outputId": "fc9cc31c-caca-43d1-e3ce-93d27f7b86bc"
      },
      "source": [
        "#Label creation \n",
        "multiLabelBinarizer = MultiLabelBinarizer()\n",
        "multiLabelBinarizer.fit([questions_df_top_10.Tag])\n",
        "multiLabelBinarizer.transform([questions_df_top_10.Tag])"
      ],
      "execution_count": null,
      "outputs": [
        {
          "output_type": "execute_result",
          "data": {
            "text/plain": [
              "array([[1, 1, 1, 1, 1, 1, 1, 1, 1, 1]])"
            ]
          },
          "metadata": {
            "tags": []
          },
          "execution_count": 43
        }
      ]
    },
    {
      "cell_type": "code",
      "metadata": {
        "colab": {
          "base_uri": "https://localhost:8080/"
        },
        "id": "I6OpDsfd_cqB",
        "outputId": "e9cb162e-ae50-4d2e-b52d-a6cbb2000a87"
      },
      "source": [
        "Labels= multiLabelBinarizer.classes_\n",
        "Labels"
      ],
      "execution_count": null,
      "outputs": [
        {
          "output_type": "execute_result",
          "data": {
            "text/plain": [
              "array(['android', 'c#', 'c++', 'html', 'ios', 'java', 'javascript',\n",
              "       'jquery', 'php', 'python'], dtype=object)"
            ]
          },
          "metadata": {
            "tags": []
          },
          "execution_count": 44
        }
      ]
    },
    {
      "cell_type": "code",
      "metadata": {
        "id": "kHW_pQC1_85A"
      },
      "source": [
        "y=pd.get_dummies(questions_df_top_10.Tag).to_numpy()"
      ],
      "execution_count": null,
      "outputs": []
    },
    {
      "cell_type": "code",
      "metadata": {
        "colab": {
          "base_uri": "https://localhost:8080/"
        },
        "id": "BW8x0XiqAkHH",
        "outputId": "8bffab4d-bdb8-43d0-b303-8abe7ba3e09a"
      },
      "source": [
        "y.shape"
      ],
      "execution_count": null,
      "outputs": [
        {
          "output_type": "execute_result",
          "data": {
            "text/plain": [
              "(826739, 10)"
            ]
          },
          "metadata": {
            "tags": []
          },
          "execution_count": 46
        }
      ]
    },
    {
      "cell_type": "code",
      "metadata": {
        "id": "xeNW7027AoHd"
      },
      "source": [
        "#tokenization\n",
        "max_len = 180 \n",
        "max_words = 5000\n",
        "tokenizer = Tokenizer(num_words=max_words,lower=True)\n",
        "tokenizer.fit_on_texts(questions_df_top_10.Text)"
      ],
      "execution_count": null,
      "outputs": []
    },
    {
      "cell_type": "code",
      "metadata": {
        "id": "zCwvSR_EpKUm"
      },
      "source": [
        "# vocab_len =len(tokenizer.index_word.keys())\n",
        "# vocab_len"
      ],
      "execution_count": null,
      "outputs": []
    },
    {
      "cell_type": "code",
      "metadata": {
        "colab": {
          "base_uri": "https://localhost:8080/"
        },
        "id": "ikRt3weHFjh1",
        "outputId": "50ed308c-48f6-4e9c-d8cb-8b24d64266ae"
      },
      "source": [
        "tokenizer"
      ],
      "execution_count": null,
      "outputs": [
        {
          "output_type": "execute_result",
          "data": {
            "text/plain": [
              "<keras_preprocessing.text.Tokenizer at 0x7f2df9906c50>"
            ]
          },
          "metadata": {
            "tags": []
          },
          "execution_count": 49
        }
      ]
    },
    {
      "cell_type": "code",
      "metadata": {
        "id": "5F7xKgENBpzI"
      },
      "source": [
        "def get_features(text_series):\n",
        "  # transforms text data to feature_vectors that can be used in the ml model\n",
        "  #Tokenizer must be available\n",
        "  sequences = tokenizer.texts_to_sequences(text_series)\n",
        "  return pad_sequences(sequences,maxlen=max_len)\n",
        "\n",
        "def predication_to_label(predication):\n",
        "  tag_prob = [(labels[i],prob) for i , prob in enumerate(predication.tolist())]\n",
        "  return dict(sorted(tag_prob,key=lambda kv : kv[1],reverse=True))"
      ],
      "execution_count": null,
      "outputs": []
    },
    {
      "cell_type": "code",
      "metadata": {
        "id": "TzCntiSXGBNr"
      },
      "source": [
        "from sklearn.model_selection import train_test_split"
      ],
      "execution_count": null,
      "outputs": []
    },
    {
      "cell_type": "code",
      "metadata": {
        "id": "Ey2Xsy5tGVsL"
      },
      "source": [
        "x=get_features(questions_df_top_10.Text)"
      ],
      "execution_count": null,
      "outputs": []
    },
    {
      "cell_type": "code",
      "metadata": {
        "colab": {
          "base_uri": "https://localhost:8080/"
        },
        "id": "IDlPmtraGbao",
        "outputId": "e3b197f3-b73b-47ec-f515-681a7c83056f"
      },
      "source": [
        "x.shape"
      ],
      "execution_count": null,
      "outputs": [
        {
          "output_type": "execute_result",
          "data": {
            "text/plain": [
              "(826739, 180)"
            ]
          },
          "metadata": {
            "tags": []
          },
          "execution_count": 53
        }
      ]
    },
    {
      "cell_type": "code",
      "metadata": {
        "colab": {
          "base_uri": "https://localhost:8080/"
        },
        "id": "n46BRkyFG6Z3",
        "outputId": "3c452abc-996a-4d83-db5d-5af60ecbf3e9"
      },
      "source": [
        "y.shape"
      ],
      "execution_count": null,
      "outputs": [
        {
          "output_type": "execute_result",
          "data": {
            "text/plain": [
              "(826739, 10)"
            ]
          },
          "metadata": {
            "tags": []
          },
          "execution_count": 54
        }
      ]
    },
    {
      "cell_type": "code",
      "metadata": {
        "id": "dROpXDrpG9D4"
      },
      "source": [
        "x_train,x_test,y_train,y_test = train_test_split(x,y,test_size=0.2,random_state=123)"
      ],
      "execution_count": null,
      "outputs": []
    },
    {
      "cell_type": "markdown",
      "metadata": {
        "id": "Cx6SxqhQoR71"
      },
      "source": [
        "## Step 4 : **Model building**\n",
        "\n",
        "\n",
        "\n",
        "\n",
        "*   CNN (Conv1D) is used \n",
        "\n",
        "\n",
        "\n",
        "\n"
      ]
    },
    {
      "cell_type": "code",
      "metadata": {
        "id": "LuJDUSWJHcLy"
      },
      "source": [
        "from tensorflow.keras.layers import  Activation, Dense, Dropout, Input, Embedding\n",
        "from tensorflow.keras.models import Sequential\n",
        "from tensorflow.keras.layers import Dense, Activation, Embedding, Flatten, GlobalMaxPool1D, Dropout, Conv1D\n",
        "from tensorflow.keras.callbacks import ReduceLROnPlateau, EarlyStopping, ModelCheckpoint\n",
        "from tensorflow.keras.losses import binary_crossentropy\n",
        "from tensorflow.keras.optimizers import Adam\n",
        "from tensorflow.keras.models import Model\n",
        "\n",
        "\n"
      ],
      "execution_count": null,
      "outputs": []
    },
    {
      "cell_type": "markdown",
      "metadata": {
        "id": "psbJZkMbo1pH"
      },
      "source": [
        "#CNN---Conv1D\n"
      ]
    },
    {
      "cell_type": "code",
      "metadata": {
        "colab": {
          "base_uri": "https://localhost:8080/"
        },
        "id": "z0HqB3eEOwzF",
        "outputId": "8792069d-4f4b-4111-ffef-eb2b30fd57a1"
      },
      "source": [
        "filter_length = 300\n",
        "\n",
        "model = Sequential()\n",
        "model.add(Embedding(max_words+1, 20, input_length=max_len))\n",
        "model.add(Dropout(0.1))\n",
        "model.add(Conv1D(filter_length, 3, padding='valid', activation='relu', strides=1))\n",
        "model.add(GlobalMaxPool1D())\n",
        "model.add(Dense(no_classes))\n",
        "model.add(Activation('sigmoid'))\n",
        "\n",
        "model.compile(optimizer='adam', loss='binary_crossentropy', metrics=['categorical_accuracy'])\n",
        "model.summary()"
      ],
      "execution_count": null,
      "outputs": [
        {
          "output_type": "stream",
          "text": [
            "Model: \"sequential\"\n",
            "_________________________________________________________________\n",
            "Layer (type)                 Output Shape              Param #   \n",
            "=================================================================\n",
            "embedding (Embedding)        (None, 180, 20)           100020    \n",
            "_________________________________________________________________\n",
            "dropout (Dropout)            (None, 180, 20)           0         \n",
            "_________________________________________________________________\n",
            "conv1d (Conv1D)              (None, 178, 300)          18300     \n",
            "_________________________________________________________________\n",
            "global_max_pooling1d (Global (None, 300)               0         \n",
            "_________________________________________________________________\n",
            "dense (Dense)                (None, 10)                3010      \n",
            "_________________________________________________________________\n",
            "activation (Activation)      (None, 10)                0         \n",
            "=================================================================\n",
            "Total params: 121,330\n",
            "Trainable params: 121,330\n",
            "Non-trainable params: 0\n",
            "_________________________________________________________________\n"
          ],
          "name": "stdout"
        }
      ]
    },
    {
      "cell_type": "markdown",
      "metadata": {
        "id": "mt-8toIWqFdx"
      },
      "source": [
        "\n",
        " **Note** :\n",
        "  \n",
        "  If you need more accuracy \n",
        "  kindly use vocab_len instead of max_words  \n",
        "  \n",
        "  you use following code.\n",
        " \n",
        "\n",
        "\n",
        " * Vocab_len =len(tokenizer.index_word.keys())\n",
        "  "
      ]
    },
    {
      "cell_type": "code",
      "metadata": {
        "colab": {
          "base_uri": "https://localhost:8080/"
        },
        "id": "qHWmn58YPGrG",
        "outputId": "35b0b04b-5817-4079-81ed-541bf21a260b"
      },
      "source": [
        "model.fit(x_train,y_train,epochs=100,validation_split=0.2)"
      ],
      "execution_count": null,
      "outputs": [
        {
          "output_type": "stream",
          "text": [
            "Epoch 1/100\n",
            "16535/16535 [==============================] - 146s 7ms/step - loss: 0.1507 - categorical_accuracy: 0.6838 - val_loss: 0.1113 - val_categorical_accuracy: 0.7665\n",
            "Epoch 2/100\n",
            "16535/16535 [==============================] - 112s 7ms/step - loss: 0.1105 - categorical_accuracy: 0.7657 - val_loss: 0.1101 - val_categorical_accuracy: 0.7642\n",
            "Epoch 3/100\n",
            "16535/16535 [==============================] - 113s 7ms/step - loss: 0.1082 - categorical_accuracy: 0.7691 - val_loss: 0.1091 - val_categorical_accuracy: 0.7669\n",
            "Epoch 4/100\n",
            "16535/16535 [==============================] - 114s 7ms/step - loss: 0.1067 - categorical_accuracy: 0.7725 - val_loss: 0.1083 - val_categorical_accuracy: 0.7693\n",
            "Epoch 5/100\n",
            "16535/16535 [==============================] - 111s 7ms/step - loss: 0.1058 - categorical_accuracy: 0.7745 - val_loss: 0.1076 - val_categorical_accuracy: 0.7676\n",
            "Epoch 6/100\n",
            "16535/16535 [==============================] - 112s 7ms/step - loss: 0.1050 - categorical_accuracy: 0.7755 - val_loss: 0.1089 - val_categorical_accuracy: 0.7691\n",
            "Epoch 7/100\n",
            "16535/16535 [==============================] - 110s 7ms/step - loss: 0.1043 - categorical_accuracy: 0.7775 - val_loss: 0.1110 - val_categorical_accuracy: 0.7630\n",
            "Epoch 8/100\n",
            "16535/16535 [==============================] - 110s 7ms/step - loss: 0.1041 - categorical_accuracy: 0.7782 - val_loss: 0.1075 - val_categorical_accuracy: 0.7699\n",
            "Epoch 9/100\n",
            "16535/16535 [==============================] - 110s 7ms/step - loss: 0.1035 - categorical_accuracy: 0.7795 - val_loss: 0.1099 - val_categorical_accuracy: 0.7662\n",
            "Epoch 10/100\n",
            "16535/16535 [==============================] - 110s 7ms/step - loss: 0.1033 - categorical_accuracy: 0.7799 - val_loss: 0.1080 - val_categorical_accuracy: 0.7661\n",
            "Epoch 11/100\n",
            "16535/16535 [==============================] - 110s 7ms/step - loss: 0.1023 - categorical_accuracy: 0.7820 - val_loss: 0.1080 - val_categorical_accuracy: 0.7674\n",
            "Epoch 12/100\n",
            "16535/16535 [==============================] - 109s 7ms/step - loss: 0.1023 - categorical_accuracy: 0.7814 - val_loss: 0.1082 - val_categorical_accuracy: 0.7675\n",
            "Epoch 13/100\n",
            "16535/16535 [==============================] - 109s 7ms/step - loss: 0.1022 - categorical_accuracy: 0.7823 - val_loss: 0.1106 - val_categorical_accuracy: 0.7646\n",
            "Epoch 14/100\n",
            "16535/16535 [==============================] - 109s 7ms/step - loss: 0.1020 - categorical_accuracy: 0.7820 - val_loss: 0.1087 - val_categorical_accuracy: 0.7657\n",
            "Epoch 15/100\n",
            "16535/16535 [==============================] - 110s 7ms/step - loss: 0.1021 - categorical_accuracy: 0.7820 - val_loss: 0.1095 - val_categorical_accuracy: 0.7631\n",
            "Epoch 16/100\n",
            "16535/16535 [==============================] - 109s 7ms/step - loss: 0.1021 - categorical_accuracy: 0.7820 - val_loss: 0.1095 - val_categorical_accuracy: 0.7578\n",
            "Epoch 17/100\n",
            "16535/16535 [==============================] - 109s 7ms/step - loss: 0.1014 - categorical_accuracy: 0.7834 - val_loss: 0.1083 - val_categorical_accuracy: 0.7670\n",
            "Epoch 18/100\n",
            "16535/16535 [==============================] - 109s 7ms/step - loss: 0.1010 - categorical_accuracy: 0.7846 - val_loss: 0.1088 - val_categorical_accuracy: 0.7654\n",
            "Epoch 19/100\n",
            "16535/16535 [==============================] - 109s 7ms/step - loss: 0.1012 - categorical_accuracy: 0.7840 - val_loss: 0.1105 - val_categorical_accuracy: 0.7663\n",
            "Epoch 20/100\n",
            "16535/16535 [==============================] - 109s 7ms/step - loss: 0.1011 - categorical_accuracy: 0.7837 - val_loss: 0.1105 - val_categorical_accuracy: 0.7627\n",
            "Epoch 21/100\n",
            "16535/16535 [==============================] - 109s 7ms/step - loss: 0.1011 - categorical_accuracy: 0.7838 - val_loss: 0.1088 - val_categorical_accuracy: 0.7660\n",
            "Epoch 22/100\n",
            "16535/16535 [==============================] - 109s 7ms/step - loss: 0.1005 - categorical_accuracy: 0.7853 - val_loss: 0.1084 - val_categorical_accuracy: 0.7659\n",
            "Epoch 23/100\n",
            "16535/16535 [==============================] - 109s 7ms/step - loss: 0.1006 - categorical_accuracy: 0.7854 - val_loss: 0.1097 - val_categorical_accuracy: 0.7653\n",
            "Epoch 24/100\n",
            "16535/16535 [==============================] - 109s 7ms/step - loss: 0.1007 - categorical_accuracy: 0.7842 - val_loss: 0.1089 - val_categorical_accuracy: 0.7639\n",
            "Epoch 25/100\n",
            "16535/16535 [==============================] - 109s 7ms/step - loss: 0.1002 - categorical_accuracy: 0.7869 - val_loss: 0.1094 - val_categorical_accuracy: 0.7643\n",
            "Epoch 26/100\n",
            "16535/16535 [==============================] - 110s 7ms/step - loss: 0.1000 - categorical_accuracy: 0.7867 - val_loss: 0.1098 - val_categorical_accuracy: 0.7620\n",
            "Epoch 27/100\n",
            "16535/16535 [==============================] - 110s 7ms/step - loss: 0.1003 - categorical_accuracy: 0.7858 - val_loss: 0.1109 - val_categorical_accuracy: 0.7629\n",
            "Epoch 28/100\n",
            "16535/16535 [==============================] - 110s 7ms/step - loss: 0.1002 - categorical_accuracy: 0.7854 - val_loss: 0.1094 - val_categorical_accuracy: 0.7653\n",
            "Epoch 29/100\n",
            "16535/16535 [==============================] - 110s 7ms/step - loss: 0.1002 - categorical_accuracy: 0.7858 - val_loss: 0.1097 - val_categorical_accuracy: 0.7649\n",
            "Epoch 30/100\n",
            "16535/16535 [==============================] - 109s 7ms/step - loss: 0.0999 - categorical_accuracy: 0.7872 - val_loss: 0.1095 - val_categorical_accuracy: 0.7644\n",
            "Epoch 31/100\n",
            "16535/16535 [==============================] - 110s 7ms/step - loss: 0.0996 - categorical_accuracy: 0.7870 - val_loss: 0.1103 - val_categorical_accuracy: 0.7613\n",
            "Epoch 32/100\n",
            "16535/16535 [==============================] - 109s 7ms/step - loss: 0.0997 - categorical_accuracy: 0.7877 - val_loss: 0.1105 - val_categorical_accuracy: 0.7615\n",
            "Epoch 33/100\n",
            "16535/16535 [==============================] - 109s 7ms/step - loss: 0.0994 - categorical_accuracy: 0.7872 - val_loss: 0.1103 - val_categorical_accuracy: 0.7637\n",
            "Epoch 34/100\n",
            "16535/16535 [==============================] - 109s 7ms/step - loss: 0.0993 - categorical_accuracy: 0.7878 - val_loss: 0.1097 - val_categorical_accuracy: 0.7632\n",
            "Epoch 35/100\n",
            "16535/16535 [==============================] - 110s 7ms/step - loss: 0.0997 - categorical_accuracy: 0.7870 - val_loss: 0.1117 - val_categorical_accuracy: 0.7623\n",
            "Epoch 36/100\n",
            "16535/16535 [==============================] - 109s 7ms/step - loss: 0.0998 - categorical_accuracy: 0.7868 - val_loss: 0.1104 - val_categorical_accuracy: 0.7611\n",
            "Epoch 37/100\n",
            "16535/16535 [==============================] - 109s 7ms/step - loss: 0.0989 - categorical_accuracy: 0.7886 - val_loss: 0.1104 - val_categorical_accuracy: 0.7583\n",
            "Epoch 38/100\n",
            "16535/16535 [==============================] - 109s 7ms/step - loss: 0.0997 - categorical_accuracy: 0.7872 - val_loss: 0.1104 - val_categorical_accuracy: 0.7616\n",
            "Epoch 39/100\n",
            "16535/16535 [==============================] - 109s 7ms/step - loss: 0.0994 - categorical_accuracy: 0.7881 - val_loss: 0.1108 - val_categorical_accuracy: 0.7612\n",
            "Epoch 40/100\n",
            "16535/16535 [==============================] - 109s 7ms/step - loss: 0.0989 - categorical_accuracy: 0.7890 - val_loss: 0.1104 - val_categorical_accuracy: 0.7580\n",
            "Epoch 41/100\n",
            "16535/16535 [==============================] - 109s 7ms/step - loss: 0.0989 - categorical_accuracy: 0.7888 - val_loss: 0.1111 - val_categorical_accuracy: 0.7581\n",
            "Epoch 42/100\n",
            "16535/16535 [==============================] - 112s 7ms/step - loss: 0.0990 - categorical_accuracy: 0.7894 - val_loss: 0.1110 - val_categorical_accuracy: 0.7571\n",
            "Epoch 43/100\n",
            "16535/16535 [==============================] - 111s 7ms/step - loss: 0.0992 - categorical_accuracy: 0.7887 - val_loss: 0.1117 - val_categorical_accuracy: 0.7615\n",
            "Epoch 44/100\n",
            "16535/16535 [==============================] - 111s 7ms/step - loss: 0.0989 - categorical_accuracy: 0.7883 - val_loss: 0.1124 - val_categorical_accuracy: 0.7557\n",
            "Epoch 45/100\n",
            "16535/16535 [==============================] - 110s 7ms/step - loss: 0.0993 - categorical_accuracy: 0.7877 - val_loss: 0.1113 - val_categorical_accuracy: 0.7560\n",
            "Epoch 46/100\n",
            "16535/16535 [==============================] - 113s 7ms/step - loss: 0.0991 - categorical_accuracy: 0.7877 - val_loss: 0.1104 - val_categorical_accuracy: 0.7568\n",
            "Epoch 47/100\n",
            "16535/16535 [==============================] - 110s 7ms/step - loss: 0.0988 - categorical_accuracy: 0.7886 - val_loss: 0.1115 - val_categorical_accuracy: 0.7578\n",
            "Epoch 48/100\n",
            "16535/16535 [==============================] - 109s 7ms/step - loss: 0.0990 - categorical_accuracy: 0.7885 - val_loss: 0.1105 - val_categorical_accuracy: 0.7632\n",
            "Epoch 49/100\n",
            "16535/16535 [==============================] - 111s 7ms/step - loss: 0.0989 - categorical_accuracy: 0.7895 - val_loss: 0.1118 - val_categorical_accuracy: 0.7612\n",
            "Epoch 50/100\n",
            "16535/16535 [==============================] - 109s 7ms/step - loss: 0.0987 - categorical_accuracy: 0.7898 - val_loss: 0.1111 - val_categorical_accuracy: 0.7602\n",
            "Epoch 51/100\n",
            "16535/16535 [==============================] - 110s 7ms/step - loss: 0.0985 - categorical_accuracy: 0.7900 - val_loss: 0.1108 - val_categorical_accuracy: 0.7614\n",
            "Epoch 52/100\n",
            "16535/16535 [==============================] - 109s 7ms/step - loss: 0.0986 - categorical_accuracy: 0.7893 - val_loss: 0.1114 - val_categorical_accuracy: 0.7611\n",
            "Epoch 53/100\n",
            "16535/16535 [==============================] - 110s 7ms/step - loss: 0.0981 - categorical_accuracy: 0.7910 - val_loss: 0.1116 - val_categorical_accuracy: 0.7579\n",
            "Epoch 54/100\n",
            "16535/16535 [==============================] - 111s 7ms/step - loss: 0.0987 - categorical_accuracy: 0.7899 - val_loss: 0.1115 - val_categorical_accuracy: 0.7608\n",
            "Epoch 55/100\n",
            "16535/16535 [==============================] - 111s 7ms/step - loss: 0.0988 - categorical_accuracy: 0.7891 - val_loss: 0.1115 - val_categorical_accuracy: 0.7609\n",
            "Epoch 56/100\n",
            "16535/16535 [==============================] - 111s 7ms/step - loss: 0.0986 - categorical_accuracy: 0.7898 - val_loss: 0.1110 - val_categorical_accuracy: 0.7622\n",
            "Epoch 57/100\n",
            "16535/16535 [==============================] - 111s 7ms/step - loss: 0.0986 - categorical_accuracy: 0.7895 - val_loss: 0.1123 - val_categorical_accuracy: 0.7615\n",
            "Epoch 58/100\n",
            "16535/16535 [==============================] - 111s 7ms/step - loss: 0.0982 - categorical_accuracy: 0.7911 - val_loss: 0.1136 - val_categorical_accuracy: 0.7539\n",
            "Epoch 59/100\n",
            "16535/16535 [==============================] - 111s 7ms/step - loss: 0.0982 - categorical_accuracy: 0.7909 - val_loss: 0.1115 - val_categorical_accuracy: 0.7599\n",
            "Epoch 60/100\n",
            "16535/16535 [==============================] - 111s 7ms/step - loss: 0.0981 - categorical_accuracy: 0.7904 - val_loss: 0.1108 - val_categorical_accuracy: 0.7595\n",
            "Epoch 61/100\n",
            "16535/16535 [==============================] - 111s 7ms/step - loss: 0.0983 - categorical_accuracy: 0.7898 - val_loss: 0.1112 - val_categorical_accuracy: 0.7609\n",
            "Epoch 62/100\n",
            "16535/16535 [==============================] - 111s 7ms/step - loss: 0.0986 - categorical_accuracy: 0.7903 - val_loss: 0.1121 - val_categorical_accuracy: 0.7605\n",
            "Epoch 63/100\n",
            "16535/16535 [==============================] - 111s 7ms/step - loss: 0.0982 - categorical_accuracy: 0.7909 - val_loss: 0.1137 - val_categorical_accuracy: 0.7496\n",
            "Epoch 64/100\n",
            "16535/16535 [==============================] - 111s 7ms/step - loss: 0.0979 - categorical_accuracy: 0.7913 - val_loss: 0.1116 - val_categorical_accuracy: 0.7592\n",
            "Epoch 65/100\n",
            "16535/16535 [==============================] - 111s 7ms/step - loss: 0.0982 - categorical_accuracy: 0.7903 - val_loss: 0.1117 - val_categorical_accuracy: 0.7579\n",
            "Epoch 66/100\n",
            "16535/16535 [==============================] - 111s 7ms/step - loss: 0.0979 - categorical_accuracy: 0.7915 - val_loss: 0.1113 - val_categorical_accuracy: 0.7605\n",
            "Epoch 67/100\n",
            "16535/16535 [==============================] - 111s 7ms/step - loss: 0.0981 - categorical_accuracy: 0.7907 - val_loss: 0.1118 - val_categorical_accuracy: 0.7538\n",
            "Epoch 68/100\n",
            "16535/16535 [==============================] - 111s 7ms/step - loss: 0.0983 - categorical_accuracy: 0.7907 - val_loss: 0.1134 - val_categorical_accuracy: 0.7605\n",
            "Epoch 69/100\n",
            "16535/16535 [==============================] - 112s 7ms/step - loss: 0.0983 - categorical_accuracy: 0.7901 - val_loss: 0.1121 - val_categorical_accuracy: 0.7600\n",
            "Epoch 70/100\n",
            "16535/16535 [==============================] - 112s 7ms/step - loss: 0.0981 - categorical_accuracy: 0.7898 - val_loss: 0.1113 - val_categorical_accuracy: 0.7600\n",
            "Epoch 71/100\n",
            "16535/16535 [==============================] - 112s 7ms/step - loss: 0.0980 - categorical_accuracy: 0.7911 - val_loss: 0.1125 - val_categorical_accuracy: 0.7573\n",
            "Epoch 72/100\n",
            "16535/16535 [==============================] - 112s 7ms/step - loss: 0.0977 - categorical_accuracy: 0.7915 - val_loss: 0.1122 - val_categorical_accuracy: 0.7572\n",
            "Epoch 73/100\n",
            "16535/16535 [==============================] - 111s 7ms/step - loss: 0.0982 - categorical_accuracy: 0.7901 - val_loss: 0.1110 - val_categorical_accuracy: 0.7610\n",
            "Epoch 74/100\n",
            "16535/16535 [==============================] - 111s 7ms/step - loss: 0.0979 - categorical_accuracy: 0.7918 - val_loss: 0.1131 - val_categorical_accuracy: 0.7597\n",
            "Epoch 75/100\n",
            "16535/16535 [==============================] - 111s 7ms/step - loss: 0.0980 - categorical_accuracy: 0.7909 - val_loss: 0.1121 - val_categorical_accuracy: 0.7580\n",
            "Epoch 76/100\n",
            "16535/16535 [==============================] - 111s 7ms/step - loss: 0.0979 - categorical_accuracy: 0.7908 - val_loss: 0.1122 - val_categorical_accuracy: 0.7613\n",
            "Epoch 77/100\n",
            "16535/16535 [==============================] - 111s 7ms/step - loss: 0.0979 - categorical_accuracy: 0.7908 - val_loss: 0.1129 - val_categorical_accuracy: 0.7582\n",
            "Epoch 78/100\n",
            "16535/16535 [==============================] - 111s 7ms/step - loss: 0.0977 - categorical_accuracy: 0.7915 - val_loss: 0.1116 - val_categorical_accuracy: 0.7575\n",
            "Epoch 79/100\n",
            "16535/16535 [==============================] - 111s 7ms/step - loss: 0.0980 - categorical_accuracy: 0.7913 - val_loss: 0.1116 - val_categorical_accuracy: 0.7609\n",
            "Epoch 80/100\n",
            "16535/16535 [==============================] - 111s 7ms/step - loss: 0.0978 - categorical_accuracy: 0.7911 - val_loss: 0.1126 - val_categorical_accuracy: 0.7591\n",
            "Epoch 81/100\n",
            "16535/16535 [==============================] - 112s 7ms/step - loss: 0.0979 - categorical_accuracy: 0.7918 - val_loss: 0.1119 - val_categorical_accuracy: 0.7568\n",
            "Epoch 82/100\n",
            "16535/16535 [==============================] - 113s 7ms/step - loss: 0.0981 - categorical_accuracy: 0.7904 - val_loss: 0.1131 - val_categorical_accuracy: 0.7580\n",
            "Epoch 83/100\n",
            "16535/16535 [==============================] - 112s 7ms/step - loss: 0.0977 - categorical_accuracy: 0.7913 - val_loss: 0.1124 - val_categorical_accuracy: 0.7561\n",
            "Epoch 84/100\n",
            "16535/16535 [==============================] - 113s 7ms/step - loss: 0.0977 - categorical_accuracy: 0.7922 - val_loss: 0.1143 - val_categorical_accuracy: 0.7541\n",
            "Epoch 85/100\n",
            "16535/16535 [==============================] - 113s 7ms/step - loss: 0.0977 - categorical_accuracy: 0.7924 - val_loss: 0.1131 - val_categorical_accuracy: 0.7554\n",
            "Epoch 86/100\n",
            "16535/16535 [==============================] - 113s 7ms/step - loss: 0.0978 - categorical_accuracy: 0.7918 - val_loss: 0.1121 - val_categorical_accuracy: 0.7597\n",
            "Epoch 87/100\n",
            "16535/16535 [==============================] - 113s 7ms/step - loss: 0.0974 - categorical_accuracy: 0.7915 - val_loss: 0.1128 - val_categorical_accuracy: 0.7598\n",
            "Epoch 88/100\n",
            "16535/16535 [==============================] - 113s 7ms/step - loss: 0.0977 - categorical_accuracy: 0.7917 - val_loss: 0.1127 - val_categorical_accuracy: 0.7603\n",
            "Epoch 89/100\n",
            "16535/16535 [==============================] - 113s 7ms/step - loss: 0.0974 - categorical_accuracy: 0.7919 - val_loss: 0.1137 - val_categorical_accuracy: 0.7580\n",
            "Epoch 90/100\n",
            "16535/16535 [==============================] - 113s 7ms/step - loss: 0.0974 - categorical_accuracy: 0.7931 - val_loss: 0.1125 - val_categorical_accuracy: 0.7571\n",
            "Epoch 91/100\n",
            "16535/16535 [==============================] - 113s 7ms/step - loss: 0.0975 - categorical_accuracy: 0.7921 - val_loss: 0.1125 - val_categorical_accuracy: 0.7560\n",
            "Epoch 92/100\n",
            "16535/16535 [==============================] - 114s 7ms/step - loss: 0.0975 - categorical_accuracy: 0.7918 - val_loss: 0.1127 - val_categorical_accuracy: 0.7594\n",
            "Epoch 93/100\n",
            "16535/16535 [==============================] - 114s 7ms/step - loss: 0.0976 - categorical_accuracy: 0.7919 - val_loss: 0.1130 - val_categorical_accuracy: 0.7574\n",
            "Epoch 94/100\n",
            "16535/16535 [==============================] - 113s 7ms/step - loss: 0.0975 - categorical_accuracy: 0.7928 - val_loss: 0.1131 - val_categorical_accuracy: 0.7541\n",
            "Epoch 95/100\n",
            "16535/16535 [==============================] - 113s 7ms/step - loss: 0.0974 - categorical_accuracy: 0.7913 - val_loss: 0.1127 - val_categorical_accuracy: 0.7585\n",
            "Epoch 96/100\n",
            "16535/16535 [==============================] - 113s 7ms/step - loss: 0.0974 - categorical_accuracy: 0.7915 - val_loss: 0.1131 - val_categorical_accuracy: 0.7579\n",
            "Epoch 97/100\n",
            "16535/16535 [==============================] - 113s 7ms/step - loss: 0.0978 - categorical_accuracy: 0.7908 - val_loss: 0.1129 - val_categorical_accuracy: 0.7554\n",
            "Epoch 98/100\n",
            "16535/16535 [==============================] - 114s 7ms/step - loss: 0.0977 - categorical_accuracy: 0.7916 - val_loss: 0.1132 - val_categorical_accuracy: 0.7565\n",
            "Epoch 99/100\n",
            "16535/16535 [==============================] - 114s 7ms/step - loss: 0.0977 - categorical_accuracy: 0.7914 - val_loss: 0.1150 - val_categorical_accuracy: 0.7606\n",
            "Epoch 100/100\n",
            "16535/16535 [==============================] - 114s 7ms/step - loss: 0.0977 - categorical_accuracy: 0.7915 - val_loss: 0.1128 - val_categorical_accuracy: 0.7583\n"
          ],
          "name": "stdout"
        },
        {
          "output_type": "execute_result",
          "data": {
            "text/plain": [
              "<tensorflow.python.keras.callbacks.History at 0x7f2de6457590>"
            ]
          },
          "metadata": {
            "tags": []
          },
          "execution_count": 59
        }
      ]
    },
    {
      "cell_type": "code",
      "metadata": {
        "id": "natXNzmeRz7a"
      },
      "source": [
        "y_pred = model.predict_classes(x_test)"
      ],
      "execution_count": null,
      "outputs": []
    },
    {
      "cell_type": "code",
      "metadata": {
        "id": "DVaquvC_Ca4n",
        "colab": {
          "base_uri": "https://localhost:8080/"
        },
        "outputId": "8cc3face-d0b7-4c9d-e933-186687b586ca"
      },
      "source": [
        "y_pred"
      ],
      "execution_count": null,
      "outputs": [
        {
          "output_type": "execute_result",
          "data": {
            "text/plain": [
              "array([6, 1, 3, ..., 1, 4, 6])"
            ]
          },
          "metadata": {
            "tags": []
          },
          "execution_count": 61
        }
      ]
    },
    {
      "cell_type": "markdown",
      "metadata": {
        "id": "c5Kjn0JwrQDK"
      },
      "source": [
        "## Step 5: ***Evaluvation ***"
      ]
    },
    {
      "cell_type": "code",
      "metadata": {
        "id": "ZmbHkOHTCdu0",
        "colab": {
          "base_uri": "https://localhost:8080/"
        },
        "outputId": "67fc8e78-c160-4b19-f255-8e81ed3666fa"
      },
      "source": [
        "model.evaluate(x_test,y_test)"
      ],
      "execution_count": null,
      "outputs": [
        {
          "output_type": "stream",
          "text": [
            "5168/5168 [==============================] - 15s 3ms/step - loss: 0.1131 - categorical_accuracy: 0.7574\n"
          ],
          "name": "stdout"
        },
        {
          "output_type": "execute_result",
          "data": {
            "text/plain": [
              "[0.11309224367141724, 0.7573723196983337]"
            ]
          },
          "metadata": {
            "tags": []
          },
          "execution_count": 62
        }
      ]
    },
    {
      "cell_type": "markdown",
      "metadata": {
        "id": "xXcX_ozBrhR6"
      },
      "source": [
        "## **Loss**: 0.1140  , **Categorical_accuracy**: 0.7552 "
      ]
    },
    {
      "cell_type": "code",
      "metadata": {
        "id": "WHR7c9TNCoq3"
      },
      "source": [
        "# loss: 0.1140 - categorical_accuracy: 0.7552\n",
        "# [0.11403822153806686, 0.7551950812339783]"
      ],
      "execution_count": null,
      "outputs": []
    }
  ]
}